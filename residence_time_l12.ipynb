{
 "cells": [
  {
   "cell_type": "code",
   "execution_count": 1,
   "id": "8348c109",
   "metadata": {},
   "outputs": [],
   "source": [
    "import numpy as np\n",
    "import MDAnalysis as mda\n",
    "import matplotlib.pyplot as plt\n",
    "import math\n",
    "import pandas as pd"
   ]
  },
  {
   "cell_type": "code",
   "execution_count": 2,
   "id": "baba8454",
   "metadata": {},
   "outputs": [],
   "source": [
    "# analyses sur une seul frame"
   ]
  },
  {
   "cell_type": "code",
   "execution_count": 3,
   "id": "9bbdf790-be46-4e4e-be63-eb87ffcba2e9",
   "metadata": {},
   "outputs": [],
   "source": [
    "with open(\"matrices.npy\", \"rb\") as f :\n",
    "    matrix_0 = np.load(f)\n",
    "    matrix_1 = np.load(f) "
   ]
  },
  {
   "cell_type": "code",
   "execution_count": 4,
   "id": "016b329f",
   "metadata": {},
   "outputs": [
    {
     "data": {
      "text/plain": [
       "(200, 200)"
      ]
     },
     "execution_count": 4,
     "metadata": {},
     "output_type": "execute_result"
    }
   ],
   "source": [
    "# Vérification de la taille de la matrice\n",
    "matrix_1.shape"
   ]
  },
  {
   "cell_type": "code",
   "execution_count": 5,
   "id": "06e57404",
   "metadata": {},
   "outputs": [],
   "source": [
    "# Fonction qui retourne les coordonnées des bog à partir d'un fichier .gro (contenant uniquement des informations sur les bog)\n",
    "def get_bog_pos(file_gro) :\n",
    "    with open(file_gro, \"r\") as f :\n",
    "        lines = f.readlines()\n",
    "    f.close()\n",
    "    n = len(lines)\n",
    "    lines  = lines[2:n-1]\n",
    "    n = len(lines)\n",
    "    pos = np.empty((n, 3))\n",
    "    \n",
    "    i = 0\n",
    "    for line in lines :\n",
    "        pos[i, 0] = line[22:28].strip()\n",
    "        pos[i, 1] = line[29:36].strip()\n",
    "        pos[i, 2] = line[37:43].strip()\n",
    "        i += 1\n",
    "        \n",
    "    return pos"
   ]
  },
  {
   "cell_type": "code",
   "execution_count": 6,
   "id": "3303adf6-9fd0-4142-b2b4-d9be2e1b300c",
   "metadata": {},
   "outputs": [
    {
     "name": "stdout",
     "output_type": "stream",
     "text": [
      "[[13.047  5.076  6.2  ]\n",
      " [13.05   5.081  6.1  ]\n",
      " [13.151  4.984  6.07 ]\n",
      " ...\n",
      " [ 4.903  6.871  4.09 ]\n",
      " [ 4.957  6.729  4.11 ]\n",
      " [ 5.061  6.695  4.   ]]\n"
     ]
    }
   ],
   "source": [
    "bog = get_bog_pos(\"BOG_1.gro\")\n",
    "print(bog)\n"
   ]
  },
  {
   "cell_type": "code",
   "execution_count": 7,
   "id": "0a6b52ea",
   "metadata": {},
   "outputs": [],
   "source": [
    "# Récuperer les coordonnées x et y des CA des BOG\n",
    "j = 16\n",
    "CA_bog = np.empty((90, 2))\n",
    "for i in range(90) :\n",
    "    CA_bog[i, 0] = bog[j, 0]\n",
    "    CA_bog[i, 1] = bog[j, 1]\n",
    "    j += 24"
   ]
  },
  {
   "cell_type": "code",
   "execution_count": 8,
   "id": "603f6c74",
   "metadata": {},
   "outputs": [],
   "source": [
    "# fonction qui récupère des informations sur la taille de la box et la taille des cases de la matrice\n",
    "def get_info(file_txt) :\n",
    "    with open(file_txt, \"r\") as f :\n",
    "        lines = f.readlines()\n",
    "    f.close()\n",
    "    \n",
    "    i = 0\n",
    "    n = len(lines)\n",
    "    infos = np.empty((n, 7))\n",
    "    for line in lines : \n",
    "        infos[i, 0] = line[6:9].strip()\n",
    "        infos[i, 1] = line[16:21].strip()\n",
    "        infos[i, 2] = line[28:33].strip()\n",
    "        infos[i, 3] = line[40:46].strip()\n",
    "        infos[i, 4] = line[53:59].strip()\n",
    "        infos[i, 5] = line[67:72].strip()\n",
    "        infos[i, 6] = line[80:].strip()\n",
    "        i += 1\n",
    "    # infos = (frame, xmin, ymin, xmax, ymax, csize, rsize)\n",
    "    return infos"
   ]
  },
  {
   "cell_type": "code",
   "execution_count": 9,
   "id": "d57b1ffa",
   "metadata": {},
   "outputs": [
    {
     "data": {
      "text/plain": [
       "2"
      ]
     },
     "execution_count": 9,
     "metadata": {},
     "output_type": "execute_result"
    }
   ],
   "source": [
    "infos = get_info(\"info.txt\")\n",
    "infos.ndim"
   ]
  },
  {
   "cell_type": "code",
   "execution_count": 10,
   "id": "1c369e3f",
   "metadata": {},
   "outputs": [],
   "source": [
    "# informations pour la première frame relatives à matrix_1\n",
    "info_1 = infos[1,]"
   ]
  },
  {
   "cell_type": "code",
   "execution_count": 11,
   "id": "a212dd0e",
   "metadata": {},
   "outputs": [],
   "source": [
    "# fonction qui itère sur la matrice de pores et remplit la matrice des bords\n",
    "\n",
    "def define_edges(matrix) :\n",
    "    rlen, clen = matrix.shape\n",
    "    edges = np.zeros((rlen, clen)) # création d'une matrice initialisée à zero de la même taille que la matrice des pores\n",
    "    # les cases désignant les bords seront à 1\n",
    "    for i in range(rlen) :\n",
    "        for j in range(clen) :\n",
    "            if matrix[i, j] == 0 :\n",
    "                # Si i = 0\n",
    "                if i == 0 :\n",
    "                    if j == 0 :\n",
    "                        if matrix[i+1, j] == 1  or matrix[i, j+1] == 1 :\n",
    "                            edges[i, j] = 1\n",
    "                    elif j == clen - 1 :\n",
    "                        if matrix[i, j-1] == 1 or matrix[i+1, j] == 1 :\n",
    "                            edges[i, j] = 1\n",
    "                    else :\n",
    "                        if matrix[i, j-1] == 1 or matrix[i+1, j] == 1 or matrix[i, j+1] == 1 :\n",
    "                            edges[i, j] = 1\n",
    "                # Si i = rlen -1\n",
    "                elif i == rlen - 1 :\n",
    "                    if j == 0 :\n",
    "                        if matrix[i-1, j] == 1 or matrix[i, j+1] == 1 :\n",
    "                            edges[i, j] = 1\n",
    "                    elif j == clen - 1 :\n",
    "                        if matrix[i, j-1] == 1 or matrix[i-1, j] == 1 :\n",
    "                            edges[i,j] = 1\n",
    "                    else :\n",
    "                        if matrix[i, j-1] == 1  or matrix[i-1, j] == 1 or matrix[i, j+1] == 1 :\n",
    "                            edges[i, j] = 1\n",
    "                # Le reste des cases \n",
    "                else :\n",
    "                    # Si j = 0\n",
    "                    if j == 0 :\n",
    "                        if matrix[i-1, j] == 1 or matrix[i, j+1] == 1 or matrix[i+1, j] == 1 :\n",
    "                            edges[i, j] = 1\n",
    "                    # Si j = clen - 1\n",
    "                    elif j == clen -1 :\n",
    "                        if matrix[i-1, j] == 1 or matrix[i, j-1] == 1 or matrix[i+1, j] == 1 :\n",
    "                            edges[i, j] == 1\n",
    "                    # Les cases entourées de 4 cases\n",
    "                    else :\n",
    "                        if matrix[i-1, j] == 1 or matrix[i+1, j] == 1 or matrix[i, j-1] == 1 or matrix[i, j+1] == 1 :\n",
    "                            edges[i, j] = 1\n",
    "    edges = np.flipud(edges)\n",
    "    return edges"
   ]
  },
  {
   "cell_type": "code",
   "execution_count": 12,
   "id": "1aa659fa",
   "metadata": {},
   "outputs": [],
   "source": [
    "# Localisation des bords des pores pour la matrice 1\n",
    "edges_1 = define_edges(matrix_1)"
   ]
  },
  {
   "cell_type": "code",
   "execution_count": 13,
   "id": "f1f55bc6",
   "metadata": {},
   "outputs": [
    {
     "data": {
      "text/plain": [
       "<matplotlib.image.AxesImage at 0x13ce00530>"
      ]
     },
     "execution_count": 13,
     "metadata": {},
     "output_type": "execute_result"
    },
    {
     "data": {
      "image/png": "[encoded data removed]",
      "text/plain": [
       "<Figure size 480x480 with 1 Axes>"
      ]
     },
     "metadata": {},
     "output_type": "display_data"
    }
   ],
   "source": [
    "plt.matshow(edges_1)"
   ]
  },
  {
   "cell_type": "code",
   "execution_count": 14,
   "id": "38179a4d",
   "metadata": {
    "scrolled": true
   },
   "outputs": [
    {
     "name": "stdout",
     "output_type": "stream",
     "text": [
      "0.001 0.001 13.599 13.597\n",
      "13.598 13.596\n"
     ]
    }
   ],
   "source": [
    "# Placer les CA de bog dans une matrice, à partir de leurs coordonnées x et y, on leur désigne une case (un indice de ligne i et de colonne j)\n",
    "## xmin et max ymin et max\n",
    "xmin, ymin, xmax, ymax = info_1[1:5]\n",
    "print(xmin, ymin, xmax, ymax)\n",
    "\n",
    "## Définir l'intervalle\n",
    "x_axis = xmax - xmin # Pour l'axe des x\n",
    "y_axis = ymax - ymin # Pour l'axe des y\n",
    "print(x_axis, y_axis)\n",
    "\n",
    "## Remplir la matrice \n",
    "bog_matrix = np.zeros((200, 200))\n",
    "for raw in CA_bog :\n",
    "    i = min(math.floor(raw[1]*(200/y_axis)), 199)\n",
    "    j = min(math.floor(raw[0]*(200/x_axis)), 199)\n",
    "    bog_matrix[i, j] = 1\n",
    "bog_matrix = np.flipud(bog_matrix)"
   ]
  },
  {
   "cell_type": "code",
   "execution_count": 15,
   "id": "20cd8452",
   "metadata": {},
   "outputs": [
    {
     "data": {
      "text/plain": [
       "<matplotlib.image.AxesImage at 0x13dd9dfa0>"
      ]
     },
     "execution_count": 15,
     "metadata": {},
     "output_type": "execute_result"
    },
    {
     "data": {
      "image/png": "[encoded data removed]",
      "text/plain": [
       "<Figure size 480x480 with 1 Axes>"
      ]
     },
     "metadata": {},
     "output_type": "display_data"
    }
   ],
   "source": [
    "plt.matshow(bog_matrix)"
   ]
  },
  {
   "cell_type": "code",
   "execution_count": 16,
   "id": "1f6d9aa2",
   "metadata": {},
   "outputs": [
    {
     "data": {
      "text/plain": [
       "<matplotlib.image.AxesImage at 0x13de806b0>"
      ]
     },
     "execution_count": 16,
     "metadata": {},
     "output_type": "execute_result"
    },
    {
     "data": {
      "image/png": "[encoded data removed]",
      "text/plain": [
       "<Figure size 480x480 with 1 Axes>"
      ]
     },
     "metadata": {},
     "output_type": "display_data"
    }
   ],
   "source": [
    "# Fusionner la matrice de pores et la matrice de bog\n",
    "\n",
    "bog_pores = edges_1\n",
    "\n",
    "for i in range(200) :\n",
    "    for j in range(200) :\n",
    "        if bog_matrix[i,j] == 1 :\n",
    "            bog_pores[i,j] = 2\n",
    "plt.matshow(bog_pores)"
   ]
  },
  {
   "cell_type": "code",
   "execution_count": 17,
   "id": "c3b82569",
   "metadata": {},
   "outputs": [],
   "source": [
    "# Récupérer les indices de cases indiquant une case à 1\n",
    "def get_coordinates(matrix) :\n",
    "    rlen, clen = matrix.shape\n",
    "    coors = []\n",
    "    for i in range(rlen) :\n",
    "        for j in range(clen) :\n",
    "            if matrix[i, j] == 1 :\n",
    "                coors.append([i,j])\n",
    "    coors = np.array(coors)\n",
    "    return coors"
   ]
  },
  {
   "cell_type": "code",
   "execution_count": 18,
   "id": "ab55c106",
   "metadata": {},
   "outputs": [
    {
     "data": {
      "text/plain": [
       "(809, 2)"
      ]
     },
     "execution_count": 18,
     "metadata": {},
     "output_type": "execute_result"
    }
   ],
   "source": [
    "# Coordonnées des pores dans la matrice\n",
    "edges_coor = get_coordinates(edges_1)\n",
    "edges_coor.shape"
   ]
  },
  {
   "cell_type": "code",
   "execution_count": 19,
   "id": "53cc657d",
   "metadata": {},
   "outputs": [
    {
     "data": {
      "text/plain": [
       "array([[  0, 153],\n",
       "       [  0, 186],\n",
       "       [  1, 153],\n",
       "       ...,\n",
       "       [198, 182],\n",
       "       [199, 156],\n",
       "       [199, 182]])"
      ]
     },
     "execution_count": 19,
     "metadata": {},
     "output_type": "execute_result"
    }
   ],
   "source": [
    "edges_coor"
   ]
  },
  {
   "cell_type": "code",
   "execution_count": 20,
   "id": "3e16f324",
   "metadata": {},
   "outputs": [
    {
     "name": "stdout",
     "output_type": "stream",
     "text": [
      "Vérifiée !\n"
     ]
    }
   ],
   "source": [
    "# Vérifier que les cases avec ces coordonnées sont à 1 dans la matrice de bords\n",
    "flag =  True \n",
    "for raw in edges_coor :\n",
    "    if edges_1[raw[0], raw[1]] == 0 :\n",
    "        flag = False\n",
    "if flag == False :\n",
    "    print(\"Erreur\")\n",
    "else :\n",
    "    print(\"Vérifiée !\")"
   ]
  },
  {
   "cell_type": "code",
   "execution_count": 21,
   "id": "eca469bf",
   "metadata": {},
   "outputs": [
    {
     "data": {
      "text/plain": [
       "(90, 2)"
      ]
     },
     "execution_count": 21,
     "metadata": {},
     "output_type": "execute_result"
    }
   ],
   "source": [
    "# Pour les bog\n",
    "bog_coor = get_coordinates(bog_matrix)\n",
    "bog_coor.shape"
   ]
  },
  {
   "cell_type": "code",
   "execution_count": 22,
   "id": "005c2d9d",
   "metadata": {},
   "outputs": [
    {
     "name": "stdout",
     "output_type": "stream",
     "text": [
      "Vérifiée !\n"
     ]
    }
   ],
   "source": [
    "# Vérifier que les cases avec ces coordonnées sont à 1 dans la matrice d bog\n",
    "flag =  True \n",
    "for raw in bog_coor :\n",
    "    if bog_matrix[raw[0], raw[1]] == 0 :\n",
    "        flag = False\n",
    "if flag == False :\n",
    "    print(\"Erreur\")\n",
    "else :\n",
    "    print(\"Vérifiée !\")"
   ]
  },
  {
   "cell_type": "code",
   "execution_count": 23,
   "id": "de0b89e7",
   "metadata": {},
   "outputs": [
    {
     "name": "stdout",
     "output_type": "stream",
     "text": [
      "nombre de cases à 1 dans la matrice des bords est :  809\n",
      "nombre de cases à 1 dans la matrice des bog est :  90\n"
     ]
    }
   ],
   "source": [
    "# vérifier le nombre de 1 dans la matrice de bords et la matrice de bog, comparer aux dimensions des array des coordonnées \n",
    "nb_pores = 0\n",
    "nb_bog = 0\n",
    "for i in range(200) : \n",
    "    for j in range(200) : \n",
    "        if edges_1[i, j] == 1 :\n",
    "            nb_pores += 1\n",
    "        if bog_matrix[i, j] == 1 :\n",
    "            nb_bog += 1\n",
    "print(\"nombre de cases à 1 dans la matrice des bords est : \", nb_pores)\n",
    "print(\"nombre de cases à 1 dans la matrice des bog est : \", nb_bog)"
   ]
  },
  {
   "cell_type": "code",
   "execution_count": 24,
   "id": "32214b5f",
   "metadata": {},
   "outputs": [],
   "source": [
    "# Calcul des distances entre les bog et les bords à partir des indices de cases comme coordonnées"
   ]
  },
  {
   "cell_type": "code",
   "execution_count": 25,
   "id": "2d1a103d",
   "metadata": {},
   "outputs": [],
   "source": [
    "# Fonction qui calcule la distance eucledienne entre deux points\n",
    "def dist_euc(point1, point2) : \n",
    "    dist = math.sqrt((point2[0]-point1[0])**2+(point2[1]-point1[1])**2)\n",
    "    return dist"
   ]
  },
  {
   "cell_type": "code",
   "execution_count": 26,
   "id": "3da3ebc7",
   "metadata": {},
   "outputs": [],
   "source": [
    "# Distances à partir des indices de lignes et de colonnes comme coordonnées \n",
    "dicts = {}\n",
    "bog_number = 1\n",
    "for i in bog_coor :\n",
    "    dist_min = dist_euc(i, edges_coor[0])\n",
    "    closest_point = edges_coor[0]\n",
    "    dict_name = f\"bog_{bog_number}\"\n",
    "    for j in edges_coor :\n",
    "        dist = dist_euc(j, i)\n",
    "        if dist <= dist_min :\n",
    "            dist_min = dist\n",
    "            closest_point = j\n",
    "    dict_tmp = {}\n",
    "    dict_tmp[\"dist_min\"] = dist_min\n",
    "    dict_tmp[\"closest_point\"] = closest_point\n",
    "    dicts[dict_name] = dict_tmp\n",
    "    bog_number +=1"
   ]
  },
  {
   "cell_type": "code",
   "execution_count": 27,
   "id": "81662787",
   "metadata": {},
   "outputs": [
    {
     "data": {
      "text/plain": [
       "{'bog_1': {'dist_min': 14.866068747318506, 'closest_point': array([  9, 144])},\n",
       " 'bog_2': {'dist_min': 34.539832078341085, 'closest_point': array([39, 83])},\n",
       " 'bog_3': {'dist_min': 27.018512172212592, 'closest_point': array([  9, 144])},\n",
       " 'bog_4': {'dist_min': 30.265491900843113, 'closest_point': array([39, 73])},\n",
       " 'bog_5': {'dist_min': 6.0, 'closest_point': array([  9, 144])},\n",
       " 'bog_6': {'dist_min': 28.792360097775937, 'closest_point': array([39, 73])},\n",
       " 'bog_7': {'dist_min': 26.0, 'closest_point': array([ 14, 144])},\n",
       " 'bog_8': {'dist_min': 18.35755975068582, 'closest_point': array([39, 73])},\n",
       " 'bog_9': {'dist_min': 43.86342439892262, 'closest_point': array([46, 56])},\n",
       " 'bog_10': {'dist_min': 17.69180601295413, 'closest_point': array([44, 58])},\n",
       " 'bog_11': {'dist_min': 9.055385138137417, 'closest_point': array([42, 60])},\n",
       " 'bog_12': {'dist_min': 17.029386365926403, 'closest_point': array([46, 56])},\n",
       " 'bog_13': {'dist_min': 6.4031242374328485,\n",
       "  'closest_point': array([ 30, 145])},\n",
       " 'bog_14': {'dist_min': 48.08326112068523, 'closest_point': array([71, 39])},\n",
       " 'bog_15': {'dist_min': 5.0, 'closest_point': array([40, 84])},\n",
       " 'bog_16': {'dist_min': 14.866068747318506,\n",
       "  'closest_point': array([ 27, 142])},\n",
       " 'bog_17': {'dist_min': 6.082762530298219, 'closest_point': array([45, 90])},\n",
       " 'bog_18': {'dist_min': 12.041594578792296,\n",
       "  'closest_point': array([ 49, 102])},\n",
       " 'bog_19': {'dist_min': 16.1245154965971, 'closest_point': array([ 49, 102])},\n",
       " 'bog_20': {'dist_min': 3.0, 'closest_point': array([46, 95])},\n",
       " 'bog_21': {'dist_min': 13.92838827718412, 'closest_point': array([ 37, 190])},\n",
       " 'bog_22': {'dist_min': 18.027756377319946,\n",
       "  'closest_point': array([ 38, 159])},\n",
       " 'bog_23': {'dist_min': 15.811388300841896,\n",
       "  'closest_point': array([ 42, 173])},\n",
       " 'bog_24': {'dist_min': 34.92849839314596, 'closest_point': array([71, 39])},\n",
       " 'bog_25': {'dist_min': 7.0710678118654755,\n",
       "  'closest_point': array([ 59, 106])},\n",
       " 'bog_26': {'dist_min': 29.410882339705484, 'closest_point': array([71, 39])},\n",
       " 'bog_27': {'dist_min': 25.709920264364882,\n",
       "  'closest_point': array([ 37, 190])},\n",
       " 'bog_28': {'dist_min': 22.847319317591726,\n",
       "  'closest_point': array([ 43, 171])},\n",
       " 'bog_29': {'dist_min': 21.095023109728988,\n",
       "  'closest_point': array([ 67, 107])},\n",
       " 'bog_30': {'dist_min': 5.656854249492381, 'closest_point': array([70, 40])},\n",
       " 'bog_31': {'dist_min': 35.6931365951495, 'closest_point': array([ 37, 190])},\n",
       " 'bog_32': {'dist_min': 11.661903789690601,\n",
       "  'closest_point': array([ 67, 107])},\n",
       " 'bog_33': {'dist_min': 17.4928556845359, 'closest_point': array([ 67, 107])},\n",
       " 'bog_34': {'dist_min': 14.560219778561036,\n",
       "  'closest_point': array([ 68, 106])},\n",
       " 'bog_35': {'dist_min': 7.280109889280518, 'closest_point': array([76, 95])},\n",
       " 'bog_36': {'dist_min': 17.88854381999832, 'closest_point': array([ 68, 106])},\n",
       " 'bog_37': {'dist_min': 21.0, 'closest_point': array([108, 181])},\n",
       " 'bog_38': {'dist_min': 17.72004514666935, 'closest_point': array([106, 159])},\n",
       " 'bog_39': {'dist_min': 1.0, 'closest_point': array([93, 68])},\n",
       " 'bog_40': {'dist_min': 20.396078054371138,\n",
       "  'closest_point': array([114, 194])},\n",
       " 'bog_41': {'dist_min': 7.615773105863909, 'closest_point': array([93, 66])},\n",
       " 'bog_42': {'dist_min': 21.540659228538015, 'closest_point': array([95, 37])},\n",
       " 'bog_43': {'dist_min': 18.788294228055936,\n",
       "  'closest_point': array([122,   5])},\n",
       " 'bog_44': {'dist_min': 1.0, 'closest_point': array([108, 144])},\n",
       " 'bog_45': {'dist_min': 14.142135623730951,\n",
       "  'closest_point': array([112, 137])},\n",
       " 'bog_46': {'dist_min': 17.11724276862369, 'closest_point': array([97, 43])},\n",
       " 'bog_47': {'dist_min': 18.110770276274835, 'closest_point': array([96, 50])},\n",
       " 'bog_48': {'dist_min': 8.0, 'closest_point': array([114, 137])},\n",
       " 'bog_49': {'dist_min': 2.0, 'closest_point': array([116, 198])},\n",
       " 'bog_50': {'dist_min': 2.0, 'closest_point': array([118, 140])},\n",
       " 'bog_51': {'dist_min': 4.123105625617661, 'closest_point': array([116, 198])},\n",
       " 'bog_52': {'dist_min': 17.029386365926403,\n",
       "  'closest_point': array([123,   6])},\n",
       " 'bog_53': {'dist_min': 31.78049716414141, 'closest_point': array([117, 137])},\n",
       " 'bog_54': {'dist_min': 4.47213595499958, 'closest_point': array([120, 144])},\n",
       " 'bog_55': {'dist_min': 26.92582403567252, 'closest_point': array([117, 137])},\n",
       " 'bog_56': {'dist_min': 2.23606797749979, 'closest_point': array([130, 193])},\n",
       " 'bog_57': {'dist_min': 2.23606797749979, 'closest_point': array([131,   5])},\n",
       " 'bog_58': {'dist_min': 14.142135623730951,\n",
       "  'closest_point': array([130, 147])},\n",
       " 'bog_59': {'dist_min': 7.0710678118654755,\n",
       "  'closest_point': array([130, 193])},\n",
       " 'bog_60': {'dist_min': 12.165525060596439,\n",
       "  'closest_point': array([148,  71])},\n",
       " 'bog_61': {'dist_min': 15.0, 'closest_point': array([148,  73])},\n",
       " 'bog_62': {'dist_min': 14.142135623730951,\n",
       "  'closest_point': array([148,  71])},\n",
       " 'bog_63': {'dist_min': 16.97056274847714, 'closest_point': array([152,  38])},\n",
       " 'bog_64': {'dist_min': 23.259406699226016,\n",
       "  'closest_point': array([130, 147])},\n",
       " 'bog_65': {'dist_min': 8.48528137423857, 'closest_point': array([148,  71])},\n",
       " 'bog_66': {'dist_min': 7.0710678118654755,\n",
       "  'closest_point': array([148,  71])},\n",
       " 'bog_67': {'dist_min': 7.0, 'closest_point': array([136, 161])},\n",
       " 'bog_68': {'dist_min': 15.231546211727817,\n",
       "  'closest_point': array([132,   2])},\n",
       " 'bog_69': {'dist_min': 16.15549442140351, 'closest_point': array([136, 159])},\n",
       " 'bog_70': {'dist_min': 20.396078054371138,\n",
       "  'closest_point': array([136, 159])},\n",
       " 'bog_71': {'dist_min': 22.0, 'closest_point': array([188, 170])},\n",
       " 'bog_72': {'dist_min': 14.560219778561036,\n",
       "  'closest_point': array([171,  29])},\n",
       " 'bog_73': {'dist_min': 27.784887978899608,\n",
       "  'closest_point': array([193, 156])},\n",
       " 'bog_74': {'dist_min': 1.0, 'closest_point': array([170,  34])},\n",
       " 'bog_75': {'dist_min': 2.23606797749979, 'closest_point': array([173,  83])},\n",
       " 'bog_76': {'dist_min': 1.0, 'closest_point': array([178,  32])},\n",
       " 'bog_77': {'dist_min': 28.442925306655784,\n",
       "  'closest_point': array([173,  83])},\n",
       " 'bog_78': {'dist_min': 28.178005607210743,\n",
       "  'closest_point': array([173,  29])},\n",
       " 'bog_79': {'dist_min': 8.54400374531753, 'closest_point': array([190,  60])},\n",
       " 'bog_80': {'dist_min': 11.704699910719626,\n",
       "  'closest_point': array([191, 184])},\n",
       " 'bog_81': {'dist_min': 8.06225774829855, 'closest_point': array([181,  33])},\n",
       " 'bog_82': {'dist_min': 2.8284271247461903,\n",
       "  'closest_point': array([191, 184])},\n",
       " 'bog_83': {'dist_min': 1.4142135623730951,\n",
       "  'closest_point': array([192,  55])},\n",
       " 'bog_84': {'dist_min': 16.278820596099706,\n",
       "  'closest_point': array([181,  33])},\n",
       " 'bog_85': {'dist_min': 9.219544457292887, 'closest_point': array([185,  47])},\n",
       " 'bog_86': {'dist_min': 12.041594578792296,\n",
       "  'closest_point': array([181,  33])},\n",
       " 'bog_87': {'dist_min': 14.0, 'closest_point': array([194, 155])},\n",
       " 'bog_88': {'dist_min': 36.0, 'closest_point': array([195, 155])},\n",
       " 'bog_89': {'dist_min': 35.77708763999664, 'closest_point': array([180,  32])},\n",
       " 'bog_90': {'dist_min': 24.351591323771842,\n",
       "  'closest_point': array([174,  82])}}"
      ]
     },
     "execution_count": 27,
     "metadata": {},
     "output_type": "execute_result"
    }
   ],
   "source": [
    "dicts"
   ]
  },
  {
   "cell_type": "code",
   "execution_count": 28,
   "id": "1135d45b",
   "metadata": {},
   "outputs": [
    {
     "data": {
      "text/plain": [
       "array([[  9, 144],\n",
       "       [ 39,  83],\n",
       "       [  9, 144],\n",
       "       [ 39,  73],\n",
       "       [  9, 144],\n",
       "       [ 39,  73],\n",
       "       [ 14, 144],\n",
       "       [ 39,  73],\n",
       "       [ 46,  56],\n",
       "       [ 44,  58],\n",
       "       [ 42,  60],\n",
       "       [ 46,  56],\n",
       "       [ 30, 145],\n",
       "       [ 71,  39],\n",
       "       [ 40,  84],\n",
       "       [ 27, 142],\n",
       "       [ 45,  90],\n",
       "       [ 49, 102],\n",
       "       [ 49, 102],\n",
       "       [ 46,  95],\n",
       "       [ 37, 190],\n",
       "       [ 38, 159],\n",
       "       [ 42, 173],\n",
       "       [ 71,  39],\n",
       "       [ 59, 106],\n",
       "       [ 71,  39],\n",
       "       [ 37, 190],\n",
       "       [ 43, 171],\n",
       "       [ 67, 107],\n",
       "       [ 70,  40],\n",
       "       [ 37, 190],\n",
       "       [ 67, 107],\n",
       "       [ 67, 107],\n",
       "       [ 68, 106],\n",
       "       [ 76,  95],\n",
       "       [ 68, 106],\n",
       "       [108, 181],\n",
       "       [106, 159],\n",
       "       [ 93,  68],\n",
       "       [114, 194],\n",
       "       [ 93,  66],\n",
       "       [ 95,  37],\n",
       "       [122,   5],\n",
       "       [108, 144],\n",
       "       [112, 137],\n",
       "       [ 97,  43],\n",
       "       [ 96,  50],\n",
       "       [114, 137],\n",
       "       [116, 198],\n",
       "       [118, 140],\n",
       "       [116, 198],\n",
       "       [123,   6],\n",
       "       [117, 137],\n",
       "       [120, 144],\n",
       "       [117, 137],\n",
       "       [130, 193],\n",
       "       [131,   5],\n",
       "       [130, 147],\n",
       "       [130, 193],\n",
       "       [148,  71],\n",
       "       [148,  73],\n",
       "       [148,  71],\n",
       "       [152,  38],\n",
       "       [130, 147],\n",
       "       [148,  71],\n",
       "       [148,  71],\n",
       "       [136, 161],\n",
       "       [132,   2],\n",
       "       [136, 159],\n",
       "       [136, 159],\n",
       "       [188, 170],\n",
       "       [171,  29],\n",
       "       [193, 156],\n",
       "       [170,  34],\n",
       "       [173,  83],\n",
       "       [178,  32],\n",
       "       [173,  83],\n",
       "       [173,  29],\n",
       "       [190,  60],\n",
       "       [191, 184],\n",
       "       [181,  33],\n",
       "       [191, 184],\n",
       "       [192,  55],\n",
       "       [181,  33],\n",
       "       [185,  47],\n",
       "       [181,  33],\n",
       "       [194, 155],\n",
       "       [195, 155],\n",
       "       [180,  32],\n",
       "       [174,  82]])"
      ]
     },
     "execution_count": 28,
     "metadata": {},
     "output_type": "execute_result"
    }
   ],
   "source": [
    "close_points = []\n",
    "for key in dicts :\n",
    "    close_points.append(dicts[key][\"closest_point\"])\n",
    "close_points = np.array(close_points)\n",
    "close_points"
   ]
  },
  {
   "cell_type": "code",
   "execution_count": 29,
   "id": "738bcb51",
   "metadata": {},
   "outputs": [
    {
     "data": {
      "text/plain": [
       "<matplotlib.collections.PathCollection at 0x13dc344a0>"
      ]
     },
     "execution_count": 29,
     "metadata": {},
     "output_type": "execute_result"
    },
    {
     "data": {
      "image/png": "[encoded data removed]",
      "text/plain": [
       "<Figure size 640x480 with 1 Axes>"
      ]
     },
     "metadata": {},
     "output_type": "display_data"
    }
   ],
   "source": [
    "tata = np.flipud(edges_1)\n",
    "toto = get_coordinates(tata)\n",
    "plt.scatter(toto[:, 0], toto[:, 1], s = 1)"
   ]
  },
  {
   "cell_type": "code",
   "execution_count": 30,
   "id": "d9131acc",
   "metadata": {},
   "outputs": [
    {
     "data": {
      "text/plain": [
       "[<matplotlib.lines.Line2D at 0x13ddebfe0>,\n",
       " <matplotlib.lines.Line2D at 0x13df98ce0>,\n",
       " <matplotlib.lines.Line2D at 0x13dfcd7f0>,\n",
       " <matplotlib.lines.Line2D at 0x13dfcd8e0>,\n",
       " <matplotlib.lines.Line2D at 0x13dfcd9d0>,\n",
       " <matplotlib.lines.Line2D at 0x13dfcdac0>,\n",
       " <matplotlib.lines.Line2D at 0x13deda720>,\n",
       " <matplotlib.lines.Line2D at 0x13df9b3b0>,\n",
       " <matplotlib.lines.Line2D at 0x13ddea6c0>,\n",
       " <matplotlib.lines.Line2D at 0x13dfcdc40>,\n",
       " <matplotlib.lines.Line2D at 0x13dfcdd30>,\n",
       " <matplotlib.lines.Line2D at 0x13dfcde20>,\n",
       " <matplotlib.lines.Line2D at 0x13dfcdf10>,\n",
       " <matplotlib.lines.Line2D at 0x13dfce000>,\n",
       " <matplotlib.lines.Line2D at 0x13dfce0f0>,\n",
       " <matplotlib.lines.Line2D at 0x13dfce1e0>,\n",
       " <matplotlib.lines.Line2D at 0x13dfce2a0>,\n",
       " <matplotlib.lines.Line2D at 0x13dfce390>,\n",
       " <matplotlib.lines.Line2D at 0x13dfce480>,\n",
       " <matplotlib.lines.Line2D at 0x13dfce570>,\n",
       " <matplotlib.lines.Line2D at 0x13dfce660>,\n",
       " <matplotlib.lines.Line2D at 0x13dfce750>,\n",
       " <matplotlib.lines.Line2D at 0x13dfce840>,\n",
       " <matplotlib.lines.Line2D at 0x13dfce930>,\n",
       " <matplotlib.lines.Line2D at 0x13dfcea20>,\n",
       " <matplotlib.lines.Line2D at 0x13dfceae0>,\n",
       " <matplotlib.lines.Line2D at 0x13dfcebd0>,\n",
       " <matplotlib.lines.Line2D at 0x13dfcecc0>,\n",
       " <matplotlib.lines.Line2D at 0x13dfced80>,\n",
       " <matplotlib.lines.Line2D at 0x13ddeb590>,\n",
       " <matplotlib.lines.Line2D at 0x13dfcef30>,\n",
       " <matplotlib.lines.Line2D at 0x13dfcf020>,\n",
       " <matplotlib.lines.Line2D at 0x13dfcf110>,\n",
       " <matplotlib.lines.Line2D at 0x13df6c710>,\n",
       " <matplotlib.lines.Line2D at 0x13df74290>,\n",
       " <matplotlib.lines.Line2D at 0x13dfcf380>,\n",
       " <matplotlib.lines.Line2D at 0x13dfcf470>,\n",
       " <matplotlib.lines.Line2D at 0x13dfcf560>,\n",
       " <matplotlib.lines.Line2D at 0x13dfcf650>,\n",
       " <matplotlib.lines.Line2D at 0x13dfcf740>,\n",
       " <matplotlib.lines.Line2D at 0x13dfcf800>,\n",
       " <matplotlib.lines.Line2D at 0x13dfcf8f0>,\n",
       " <matplotlib.lines.Line2D at 0x13dfcf9b0>,\n",
       " <matplotlib.lines.Line2D at 0x13dfcfaa0>,\n",
       " <matplotlib.lines.Line2D at 0x13dfcfb60>,\n",
       " <matplotlib.lines.Line2D at 0x13dfcfc50>,\n",
       " <matplotlib.lines.Line2D at 0x13dfcfd40>,\n",
       " <matplotlib.lines.Line2D at 0x13dfcfe30>,\n",
       " <matplotlib.lines.Line2D at 0x13dfcff20>,\n",
       " <matplotlib.lines.Line2D at 0x13dff8050>,\n",
       " <matplotlib.lines.Line2D at 0x13dff8140>,\n",
       " <matplotlib.lines.Line2D at 0x13dff8230>,\n",
       " <matplotlib.lines.Line2D at 0x13df74980>,\n",
       " <matplotlib.lines.Line2D at 0x13dff83e0>,\n",
       " <matplotlib.lines.Line2D at 0x13dff84a0>,\n",
       " <matplotlib.lines.Line2D at 0x13dff8590>,\n",
       " <matplotlib.lines.Line2D at 0x13dff8680>,\n",
       " <matplotlib.lines.Line2D at 0x13dff8770>,\n",
       " <matplotlib.lines.Line2D at 0x13dff8860>,\n",
       " <matplotlib.lines.Line2D at 0x13dff8950>,\n",
       " <matplotlib.lines.Line2D at 0x13dff8a40>,\n",
       " <matplotlib.lines.Line2D at 0x13dff8b30>,\n",
       " <matplotlib.lines.Line2D at 0x13dff8c20>,\n",
       " <matplotlib.lines.Line2D at 0x13dff8d10>,\n",
       " <matplotlib.lines.Line2D at 0x13df6e720>,\n",
       " <matplotlib.lines.Line2D at 0x13df6eb10>,\n",
       " <matplotlib.lines.Line2D at 0x13dff8f80>,\n",
       " <matplotlib.lines.Line2D at 0x13dff9070>,\n",
       " <matplotlib.lines.Line2D at 0x13df6f110>,\n",
       " <matplotlib.lines.Line2D at 0x13dff91f0>,\n",
       " <matplotlib.lines.Line2D at 0x13dff92e0>,\n",
       " <matplotlib.lines.Line2D at 0x13dff93d0>,\n",
       " <matplotlib.lines.Line2D at 0x13dff94c0>,\n",
       " <matplotlib.lines.Line2D at 0x13dff95b0>,\n",
       " <matplotlib.lines.Line2D at 0x13def2300>,\n",
       " <matplotlib.lines.Line2D at 0x13dff9730>,\n",
       " <matplotlib.lines.Line2D at 0x13df6dfa0>,\n",
       " <matplotlib.lines.Line2D at 0x13df6d310>,\n",
       " <matplotlib.lines.Line2D at 0x13dfcd6a0>,\n",
       " <matplotlib.lines.Line2D at 0x13dff9a60>,\n",
       " <matplotlib.lines.Line2D at 0x13dff9b50>,\n",
       " <matplotlib.lines.Line2D at 0x13dff9c40>,\n",
       " <matplotlib.lines.Line2D at 0x13dff9d30>,\n",
       " <matplotlib.lines.Line2D at 0x13dff9e20>,\n",
       " <matplotlib.lines.Line2D at 0x13dff9f10>,\n",
       " <matplotlib.lines.Line2D at 0x13dff9fd0>,\n",
       " <matplotlib.lines.Line2D at 0x13dffa0c0>,\n",
       " <matplotlib.lines.Line2D at 0x13dffa1b0>,\n",
       " <matplotlib.lines.Line2D at 0x13dffa2a0>,\n",
       " <matplotlib.lines.Line2D at 0x13dffa360>]"
      ]
     },
     "execution_count": 30,
     "metadata": {},
     "output_type": "execute_result"
    },
    {
     "data": {
      "image/png": "[encoded data removed]",
      "text/plain": [
       "<Figure size 640x480 with 1 Axes>"
      ]
     },
     "metadata": {},
     "output_type": "display_data"
    }
   ],
   "source": [
    "plt.scatter(edges_coor[:, 0], edges_coor[:, 1], s = 1)\n",
    "plt.scatter(bog_coor[:, 0], bog_coor[:, 1], s = 2)\n",
    "plt.plot([bog_coor[:, 0], close_points[:, 0]], [bog_coor[:, 1], close_points[:, 1]], \"r-\", lw = 0.5)"
   ]
  },
  {
   "cell_type": "code",
   "execution_count": 31,
   "id": "0a72dad2",
   "metadata": {},
   "outputs": [],
   "source": [
    "#  Calcul des distances entre les bog et les bords à partir des coordonnées estimées des boors et des vraies coordonnées de bog"
   ]
  },
  {
   "cell_type": "code",
   "execution_count": 32,
   "id": "ff4a3221",
   "metadata": {},
   "outputs": [
    {
     "name": "stdout",
     "output_type": "stream",
     "text": [
      "0.001 0.001 13.599 13.597 0.068 0.068\n"
     ]
    }
   ],
   "source": [
    "# estimer les coordonnées des pores à partir des cases\n",
    "xmin, ymin, xmax, ymax, csize, rsize = info_1[1:]\n",
    "print(xmin, ymin, xmax, ymax, csize, rsize)"
   ]
  },
  {
   "cell_type": "code",
   "execution_count": 33,
   "id": "91e1f55e",
   "metadata": {},
   "outputs": [
    {
     "data": {
      "text/plain": [
       "<matplotlib.image.AxesImage at 0x13e0f06b0>"
      ]
     },
     "execution_count": 33,
     "metadata": {},
     "output_type": "execute_result"
    },
    {
     "data": {
      "image/png": "[encoded data removed]",
      "text/plain": [
       "<Figure size 480x480 with 1 Axes>"
      ]
     },
     "metadata": {},
     "output_type": "display_data"
    }
   ],
   "source": [
    "plt.matshow(edges_1)"
   ]
  },
  {
   "cell_type": "code",
   "execution_count": 34,
   "id": "c32dc363",
   "metadata": {},
   "outputs": [
    {
     "data": {
      "text/plain": [
       "array([[10.64044,  0.034  ],\n",
       "       [12.40818,  0.034  ],\n",
       "       [10.64044,  0.10198],\n",
       "       ...,\n",
       "       [12.68014, 13.49404],\n",
       "       [10.43647, 13.56202],\n",
       "       [12.68014, 13.56202]])"
      ]
     },
     "execution_count": 34,
     "metadata": {},
     "output_type": "execute_result"
    }
   ],
   "source": [
    "# L'estimation des coordonnées de bords doit se faire à partir de la matrice initial non tournée\n",
    "\n",
    "n, m = edges_coor.shape\n",
    "edges_estm = np.zeros((n, m))\n",
    "i = 0\n",
    "matrix = np.flipud(edges_1)\n",
    "edges1_index = get_coordinates(matrix)\n",
    "for raw in edges1_index :\n",
    "    x = ((raw[1]*x_axis)/200) + rsize/2\n",
    "    y = ((raw[0]*y_axis)/200) + csize/2\n",
    "    edges_estm[i,0] = x\n",
    "    edges_estm[i,1] = y\n",
    "    i += 1\n",
    "edges_estm"
   ]
  },
  {
   "cell_type": "code",
   "execution_count": 35,
   "id": "05afc784",
   "metadata": {},
   "outputs": [
    {
     "data": {
      "text/plain": [
       "<matplotlib.image.AxesImage at 0x13e16e5a0>"
      ]
     },
     "execution_count": 35,
     "metadata": {},
     "output_type": "execute_result"
    },
    {
     "data": {
      "image/png": "[encoded data removed]",
      "text/plain": [
       "<Figure size 480x480 with 1 Axes>"
      ]
     },
     "metadata": {},
     "output_type": "display_data"
    }
   ],
   "source": [
    "plt.matshow(np.flipud(edges_1))"
   ]
  },
  {
   "cell_type": "code",
   "execution_count": 36,
   "id": "8948f39c",
   "metadata": {},
   "outputs": [
    {
     "data": {
      "text/plain": [
       "(809, 2)"
      ]
     },
     "execution_count": 36,
     "metadata": {},
     "output_type": "execute_result"
    }
   ],
   "source": [
    "edges_estm.shape"
   ]
  },
  {
   "cell_type": "code",
   "execution_count": 37,
   "id": "f035f954",
   "metadata": {},
   "outputs": [
    {
     "data": {
      "text/plain": [
       "<matplotlib.collections.PathCollection at 0x13e16eb10>"
      ]
     },
     "execution_count": 37,
     "metadata": {},
     "output_type": "execute_result"
    },
    {
     "data": {
      "image/png": "[encoded data removed]",
      "text/plain": [
       "<Figure size 640x480 with 1 Axes>"
      ]
     },
     "metadata": {},
     "output_type": "display_data"
    }
   ],
   "source": [
    "# plt.scatter(edges_estm[:, 0], edges_estm[:, 1], s = 1)\n",
    "plt.scatter(CA_bog[:, 0], CA_bog[:, 1], s = 1)"
   ]
  },
  {
   "cell_type": "code",
   "execution_count": 38,
   "id": "08c45ef7",
   "metadata": {},
   "outputs": [],
   "source": [
    "# les informations pour les distances minimales et le point le plus proche à chaque bog seront enregistré dans le dictionnaire dicts1\n",
    "dicts1 = {}\n",
    "bog_number = 1\n",
    "for i in CA_bog :\n",
    "    dist_min = dist_euc(i, edges_estm[0])\n",
    "    closest_point = edges_estm[0]\n",
    "    dict_name = f\"bog_{bog_number}\"\n",
    "    for j in edges_estm :\n",
    "        dist = dist_euc(j, i)\n",
    "        if dist <= dist_min :\n",
    "            dist_min = dist\n",
    "            closest_point = j\n",
    "    dict_tmp = {}\n",
    "    dict_tmp[\"dist_min\"] = dist_min\n",
    "    dict_tmp[\"closest_point\"] = closest_point\n",
    "    dicts1[dict_name] = dict_tmp # au sein du dictionnaire il y aura un dictionnaire pour chaque bog, qui a comme clé le numéro du bog\n",
    "    bog_number +=1"
   ]
  },
  {
   "cell_type": "code",
   "execution_count": 39,
   "id": "b94651d7",
   "metadata": {},
   "outputs": [
    {
     "data": {
      "text/plain": [
       "{'bog_1': {'dist_min': 0.13786917458228157,\n",
       "  'closest_point': array([13.15607,  4.72462])},\n",
       " 'bog_2': {'dist_min': 1.481018508763479,\n",
       "  'closest_point': array([2.54963, 7.10392])},\n",
       " 'bog_3': {'dist_min': 0.2983126480724548,\n",
       "  'closest_point': array([13.49602,  5.67634])},\n",
       " 'bog_4': {'dist_min': 0.9804742793668798,\n",
       "  'closest_point': array([10.57245,  0.3739 ])},\n",
       " 'bog_5': {'dist_min': 0.6025300982523609,\n",
       "  'closest_point': array([3.22953, 0.98572])},\n",
       " 'bog_6': {'dist_min': 1.1793557512472645,\n",
       "  'closest_point': array([2.61762, 3.22906])},\n",
       " 'bog_7': {'dist_min': 1.4271608628672525,\n",
       "  'closest_point': array([12.34019,  6.22018])},\n",
       " 'bog_8': {'dist_min': 1.0931918772109483,\n",
       "  'closest_point': array([ 6.96898, 10.231  ])},\n",
       " 'bog_9': {'dist_min': 1.9392611512893245,\n",
       "  'closest_point': array([ 4.99727, 10.9108 ])},\n",
       " 'bog_10': {'dist_min': 0.9658217047157319,\n",
       "  'closest_point': array([10.02853,  4.72462])},\n",
       " 'bog_11': {'dist_min': 1.3629464309355661,\n",
       "  'closest_point': array([13.22406,  5.8123 ])},\n",
       " 'bog_12': {'dist_min': 0.9909939746032769,\n",
       "  'closest_point': array([2.00571, 1.93744])},\n",
       " 'bog_13': {'dist_min': 1.2432368775096716,\n",
       "  'closest_point': array([3.4335 , 7.03594])},\n",
       " 'bog_14': {'dist_min': 1.6080799623464008,\n",
       "  'closest_point': array([10.02853,  4.72462])},\n",
       " 'bog_15': {'dist_min': 0.5597714573823858,\n",
       "  'closest_point': array([4.86129, 3.50098])},\n",
       " 'bog_16': {'dist_min': 0.15894451642003865,\n",
       "  'closest_point': array([5.67717, 1.80148])},\n",
       " 'bog_17': {'dist_min': 0.04430619369794698,\n",
       "  'closest_point': array([2.20968, 2.00542])},\n",
       " 'bog_18': {'dist_min': 1.1466493302226273,\n",
       "  'closest_point': array([2.95757, 6.96796])},\n",
       " 'bog_19': {'dist_min': 1.2467541489804648,\n",
       "  'closest_point': array([7.24094, 8.93938])},\n",
       " 'bog_20': {'dist_min': 0.5853886397941109,\n",
       "  'closest_point': array([ 4.1134 , 10.70686])},\n",
       " 'bog_21': {'dist_min': 0.4592132773559582,\n",
       "  'closest_point': array([6.49305, 8.39554])},\n",
       " 'bog_22': {'dist_min': 0.10597755469909631,\n",
       "  'closest_point': array([3.77345, 0.50986])},\n",
       " 'bog_23': {'dist_min': 1.6325002059417937,\n",
       "  'closest_point': array([5.60918, 1.7335 ])},\n",
       " 'bog_24': {'dist_min': 2.421064003201898,\n",
       "  'closest_point': array([12.9521 , 11.04676])},\n",
       " 'bog_25': {'dist_min': 1.2205456798088337,\n",
       "  'closest_point': array([10.84441, 10.97878])},\n",
       " 'bog_26': {'dist_min': 0.49062414259797577,\n",
       "  'closest_point': array([13.15607,  4.72462])},\n",
       " 'bog_27': {'dist_min': 0.791846004283661,\n",
       "  'closest_point': array([7.30893, 9.00736])},\n",
       " 'bog_28': {'dist_min': 1.7785766679004895,\n",
       "  'closest_point': array([ 9.82456, 12.6103 ])},\n",
       " 'bog_29': {'dist_min': 0.5858390551166762,\n",
       "  'closest_point': array([2.27767, 1.25764])},\n",
       " 'bog_30': {'dist_min': 2.3512981788152687,\n",
       "  'closest_point': array([2.68561, 8.73544])},\n",
       " 'bog_31': {'dist_min': 1.5792461298037124,\n",
       "  'closest_point': array([11.66029, 10.63888])},\n",
       " 'bog_32': {'dist_min': 1.079235846559963,\n",
       "  'closest_point': array([11.79627, 10.70686])},\n",
       " 'bog_33': {'dist_min': 1.0268497033646162,\n",
       "  'closest_point': array([4.99727, 3.50098])},\n",
       " 'bog_34': {'dist_min': 0.28341293195618333,\n",
       "  'closest_point': array([9.82456, 5.40442])},\n",
       " 'bog_35': {'dist_min': 2.4664627158949735,\n",
       "  'closest_point': array([10.57245,  0.30592])},\n",
       " 'bog_36': {'dist_min': 1.015576621235445,\n",
       "  'closest_point': array([ 9.82456, 12.9502 ])},\n",
       " 'bog_37': {'dist_min': 0.5112344374159471,\n",
       "  'closest_point': array([4.52134, 7.23988])},\n",
       " 'bog_38': {'dist_min': 1.1071593231328543,\n",
       "  'closest_point': array([2.20968, 1.32562])},\n",
       " 'bog_39': {'dist_min': 1.408932572730151,\n",
       "  'closest_point': array([7.30893, 9.00736])},\n",
       " 'bog_40': {'dist_min': 0.4529686299292705,\n",
       "  'closest_point': array([10.98039,  4.31674])},\n",
       " 'bog_41': {'dist_min': 1.8425167153922937,\n",
       "  'closest_point': array([9.34863, 5.60836])},\n",
       " 'bog_42': {'dist_min': 0.5642036444405517,\n",
       "  'closest_point': array([4.1134 , 0.64582])},\n",
       " 'bog_43': {'dist_min': 2.961001843498244,\n",
       "  'closest_point': array([ 3.84144, 10.43494])},\n",
       " 'bog_44': {'dist_min': 1.937442276430449,\n",
       "  'closest_point': array([2.00571, 1.80148])},\n",
       " 'bog_45': {'dist_min': 2.4186833787827626,\n",
       "  'closest_point': array([2.20968, 1.32562])},\n",
       " 'bog_46': {'dist_min': 0.16769101347418627,\n",
       "  'closest_point': array([13.49602,  5.67634])},\n",
       " 'bog_47': {'dist_min': 0.7824126663724191,\n",
       "  'closest_point': array([ 6.90099, 10.29898])},\n",
       " 'bog_48': {'dist_min': 0.8241766949507855,\n",
       "  'closest_point': array([4.86129, 3.50098])},\n",
       " 'bog_49': {'dist_min': 1.208118253524877,\n",
       "  'closest_point': array([7.30893, 9.00736])},\n",
       " 'bog_50': {'dist_min': 0.35097586526711516,\n",
       "  'closest_point': array([ 5.74516, 10.84282])},\n",
       " 'bog_51': {'dist_min': 0.5624147463393906,\n",
       "  'closest_point': array([9.34863, 5.8123 ])},\n",
       " 'bog_52': {'dist_min': 0.12299522104537278,\n",
       "  'closest_point': array([9.5526 , 5.54038])},\n",
       " 'bog_53': {'dist_min': 2.0546813360956953,\n",
       "  'closest_point': array([ 4.99727, 10.9108 ])},\n",
       " 'bog_54': {'dist_min': 0.3981439141817931,\n",
       "  'closest_point': array([2.7536 , 8.80342])},\n",
       " 'bog_55': {'dist_min': 2.0012764940657246,\n",
       "  'closest_point': array([2.68561, 8.73544])},\n",
       " 'bog_56': {'dist_min': 1.3806556470387545,\n",
       "  'closest_point': array([10.84441,  4.31674])},\n",
       " 'bog_57': {'dist_min': 0.0730019095640656,\n",
       "  'closest_point': array([2.20968, 1.46158])},\n",
       " 'bog_58': {'dist_min': 0.411924855890006,\n",
       "  'closest_point': array([ 9.89255, 11.52262])},\n",
       " 'bog_59': {'dist_min': 0.4748449057323876,\n",
       "  'closest_point': array([4.86129, 3.50098])},\n",
       " 'bog_60': {'dist_min': 0.054879012381782805,\n",
       "  'closest_point': array([9.82456, 6.22018])},\n",
       " 'bog_61': {'dist_min': 2.3519544572333855,\n",
       "  'closest_point': array([ 5.67717, 10.9108 ])},\n",
       " 'bog_62': {'dist_min': 1.201989154568376,\n",
       "  'closest_point': array([10.84441,  6.35614])},\n",
       " 'bog_63': {'dist_min': 0.8406530785645171,\n",
       "  'closest_point': array([2.27767, 1.25764])},\n",
       " 'bog_64': {'dist_min': 0.5022577063619826,\n",
       "  'closest_point': array([7.24094, 9.5512 ])},\n",
       " 'bog_65': {'dist_min': 0.9703016788607575,\n",
       "  'closest_point': array([7.24094, 8.93938])},\n",
       " 'bog_66': {'dist_min': 0.8170119773907827,\n",
       "  'closest_point': array([12.54416,  0.57784])},\n",
       " 'bog_67': {'dist_min': 1.2759945509679886,\n",
       "  'closest_point': array([0.37395, 5.26846])},\n",
       " 'bog_68': {'dist_min': 0.9343838742722409,\n",
       "  'closest_point': array([9.34863, 5.94826])},\n",
       " 'bog_69': {'dist_min': 1.1732296267994589,\n",
       "  'closest_point': array([ 3.84144, 10.43494])},\n",
       " 'bog_70': {'dist_min': 1.1141756754210714,\n",
       "  'closest_point': array([10.84441,  4.31674])},\n",
       " 'bog_71': {'dist_min': 1.2387887765474772,\n",
       "  'closest_point': array([ 4.99727, 10.9108 ])},\n",
       " 'bog_72': {'dist_min': 1.5203230375153827,\n",
       "  'closest_point': array([11.5923 ,  0.78178])},\n",
       " 'bog_73': {'dist_min': 1.7334611122260575,\n",
       "  'closest_point': array([12.9521 , 11.04676])},\n",
       " 'bog_74': {'dist_min': 0.2118371336664073,\n",
       "  'closest_point': array([12.54416,  0.57784])},\n",
       " 'bog_75': {'dist_min': 0.922141934628287,\n",
       "  'closest_point': array([12.9521 , 11.04676])},\n",
       " 'bog_76': {'dist_min': 2.152548151958513,\n",
       "  'closest_point': array([9.34863, 5.60836])},\n",
       " 'bog_77': {'dist_min': 3.267058580083925,\n",
       "  'closest_point': array([2.68561, 8.73544])},\n",
       " 'bog_78': {'dist_min': 0.12903421251745564,\n",
       "  'closest_point': array([0.44194, 4.72462])},\n",
       " 'bog_79': {'dist_min': 1.0292607619063303,\n",
       "  'closest_point': array([0.16998, 4.58866])},\n",
       " 'bog_80': {'dist_min': 1.9099647452243722,\n",
       "  'closest_point': array([10.64044,  0.44188])},\n",
       " 'bog_81': {'dist_min': 0.9784926287407594,\n",
       "  'closest_point': array([4.86129, 3.50098])},\n",
       " 'bog_82': {'dist_min': 0.9975413425016556,\n",
       "  'closest_point': array([ 9.68858, 11.72656])},\n",
       " 'bog_83': {'dist_min': 1.9165719760290767,\n",
       "  'closest_point': array([5.67717, 1.80148])},\n",
       " 'bog_84': {'dist_min': 0.41383923641917014,\n",
       "  'closest_point': array([ 9.82456, 12.9502 ])},\n",
       " 'bog_85': {'dist_min': 1.2174584767046466,\n",
       "  'closest_point': array([ 4.04541, 10.63888])},\n",
       " 'bog_86': {'dist_min': 1.8389485347882923,\n",
       "  'closest_point': array([ 9.82456, 12.9502 ])},\n",
       " 'bog_87': {'dist_min': 1.159073040839101,\n",
       "  'closest_point': array([0.44194, 5.20048])},\n",
       " 'bog_88': {'dist_min': 0.19219772657344372,\n",
       "  'closest_point': array([ 6.49305, 10.43494])},\n",
       " 'bog_89': {'dist_min': 0.42589657946501397,\n",
       "  'closest_point': array([ 6.1531 , 10.50292])},\n",
       " 'bog_90': {'dist_min': 0.07673302287802855,\n",
       "  'closest_point': array([4.65732, 7.23988])}}"
      ]
     },
     "execution_count": 39,
     "metadata": {},
     "output_type": "execute_result"
    }
   ],
   "source": [
    "dicts1"
   ]
  },
  {
   "cell_type": "code",
   "execution_count": 40,
   "id": "8059be4a-74eb-4e25-8f4f-395109340a88",
   "metadata": {},
   "outputs": [
    {
     "data": {
      "text/plain": [
       "array([[13.15607,  4.72462],\n",
       "       [ 2.54963,  7.10392],\n",
       "       [13.49602,  5.67634],\n",
       "       [10.57245,  0.3739 ],\n",
       "       [ 3.22953,  0.98572],\n",
       "       [ 2.61762,  3.22906],\n",
       "       [12.34019,  6.22018],\n",
       "       [ 6.96898, 10.231  ],\n",
       "       [ 4.99727, 10.9108 ],\n",
       "       [10.02853,  4.72462],\n",
       "       [13.22406,  5.8123 ],\n",
       "       [ 2.00571,  1.93744],\n",
       "       [ 3.4335 ,  7.03594],\n",
       "       [10.02853,  4.72462],\n",
       "       [ 4.86129,  3.50098],\n",
       "       [ 5.67717,  1.80148],\n",
       "       [ 2.20968,  2.00542],\n",
       "       [ 2.95757,  6.96796],\n",
       "       [ 7.24094,  8.93938],\n",
       "       [ 4.1134 , 10.70686],\n",
       "       [ 6.49305,  8.39554],\n",
       "       [ 3.77345,  0.50986],\n",
       "       [ 5.60918,  1.7335 ],\n",
       "       [12.9521 , 11.04676],\n",
       "       [10.84441, 10.97878],\n",
       "       [13.15607,  4.72462],\n",
       "       [ 7.30893,  9.00736],\n",
       "       [ 9.82456, 12.6103 ],\n",
       "       [ 2.27767,  1.25764],\n",
       "       [ 2.68561,  8.73544],\n",
       "       [11.66029, 10.63888],\n",
       "       [11.79627, 10.70686],\n",
       "       [ 4.99727,  3.50098],\n",
       "       [ 9.82456,  5.40442],\n",
       "       [10.57245,  0.30592],\n",
       "       [ 9.82456, 12.9502 ],\n",
       "       [ 4.52134,  7.23988],\n",
       "       [ 2.20968,  1.32562],\n",
       "       [ 7.30893,  9.00736],\n",
       "       [10.98039,  4.31674],\n",
       "       [ 9.34863,  5.60836],\n",
       "       [ 4.1134 ,  0.64582],\n",
       "       [ 3.84144, 10.43494],\n",
       "       [ 2.00571,  1.80148],\n",
       "       [ 2.20968,  1.32562],\n",
       "       [13.49602,  5.67634],\n",
       "       [ 6.90099, 10.29898],\n",
       "       [ 4.86129,  3.50098],\n",
       "       [ 7.30893,  9.00736],\n",
       "       [ 5.74516, 10.84282],\n",
       "       [ 9.34863,  5.8123 ],\n",
       "       [ 9.5526 ,  5.54038],\n",
       "       [ 4.99727, 10.9108 ],\n",
       "       [ 2.7536 ,  8.80342],\n",
       "       [ 2.68561,  8.73544],\n",
       "       [10.84441,  4.31674],\n",
       "       [ 2.20968,  1.46158],\n",
       "       [ 9.89255, 11.52262],\n",
       "       [ 4.86129,  3.50098],\n",
       "       [ 9.82456,  6.22018],\n",
       "       [ 5.67717, 10.9108 ],\n",
       "       [10.84441,  6.35614],\n",
       "       [ 2.27767,  1.25764],\n",
       "       [ 7.24094,  9.5512 ],\n",
       "       [ 7.24094,  8.93938],\n",
       "       [12.54416,  0.57784],\n",
       "       [ 0.37395,  5.26846],\n",
       "       [ 9.34863,  5.94826],\n",
       "       [ 3.84144, 10.43494],\n",
       "       [10.84441,  4.31674],\n",
       "       [ 4.99727, 10.9108 ],\n",
       "       [11.5923 ,  0.78178],\n",
       "       [12.9521 , 11.04676],\n",
       "       [12.54416,  0.57784],\n",
       "       [12.9521 , 11.04676],\n",
       "       [ 9.34863,  5.60836],\n",
       "       [ 2.68561,  8.73544],\n",
       "       [ 0.44194,  4.72462],\n",
       "       [ 0.16998,  4.58866],\n",
       "       [10.64044,  0.44188],\n",
       "       [ 4.86129,  3.50098],\n",
       "       [ 9.68858, 11.72656],\n",
       "       [ 5.67717,  1.80148],\n",
       "       [ 9.82456, 12.9502 ],\n",
       "       [ 4.04541, 10.63888],\n",
       "       [ 9.82456, 12.9502 ],\n",
       "       [ 0.44194,  5.20048],\n",
       "       [ 6.49305, 10.43494],\n",
       "       [ 6.1531 , 10.50292],\n",
       "       [ 4.65732,  7.23988]])"
      ]
     },
     "execution_count": 40,
     "metadata": {},
     "output_type": "execute_result"
    }
   ],
   "source": [
    "# On récupère le point le plus proche à chaque bog\n",
    "close_points1 = []\n",
    "for key in dicts1 :\n",
    "    close_points1.append(dicts1[key][\"closest_point\"])\n",
    "close_points1 = np.array(close_points1)\n",
    "close_points1"
   ]
  },
  {
   "cell_type": "code",
   "execution_count": 41,
   "id": "e6400315",
   "metadata": {},
   "outputs": [
    {
     "data": {
      "image/png": "[encoded data removed]",
      "text/plain": [
       "<Figure size 640x480 with 1 Axes>"
      ]
     },
     "metadata": {},
     "output_type": "display_data"
    }
   ],
   "source": [
    "# représentation des pores, bog, et liaison de chaque bog à son point le plus proche\n",
    "plt.scatter(edges_estm[:, 0], edges_estm[:, 1], s = 1)\n",
    "plt.scatter(CA_bog[:, 0], CA_bog[:, 1], s = 2)\n",
    "plt.plot([CA_bog[:, 0], close_points1[:, 0]], [CA_bog[:, 1], close_points1[:, 1]], \"r-\", lw = 0.5)\n",
    "plt.show()"
   ]
  },
  {
   "cell_type": "code",
   "execution_count": 42,
   "id": "46c12d67-5917-401f-b89f-57a5165ff494",
   "metadata": {},
   "outputs": [
    {
     "data": {
      "text/plain": [
       "<matplotlib.collections.PathCollection at 0x13def18b0>"
      ]
     },
     "execution_count": 42,
     "metadata": {},
     "output_type": "execute_result"
    },
    {
     "data": {
      "image/png": "[encoded data removed]",
      "text/plain": [
       "<Figure size 640x480 with 1 Axes>"
      ]
     },
     "metadata": {},
     "output_type": "display_data"
    }
   ],
   "source": [
    "plt.scatter(CA_bog[:, 0], CA_bog[:, 1], s=.2)\n"
   ]
  },
  {
   "cell_type": "code",
   "execution_count": 43,
   "id": "c7a1b20e-3e84-4c6a-b612-4d4d434a7497",
   "metadata": {},
   "outputs": [
    {
     "data": {
      "text/plain": [
       "<matplotlib.collections.PathCollection at 0x13e4033b0>"
      ]
     },
     "execution_count": 43,
     "metadata": {},
     "output_type": "execute_result"
    },
    {
     "data": {
      "image/png": "[encoded data removed]",
      "text/plain": [
       "<Figure size 640x480 with 1 Axes>"
      ]
     },
     "metadata": {},
     "output_type": "display_data"
    }
   ],
   "source": [
    "plt.scatter(bog_coor[:, 0], bog_coor[:, 1], s=.2)\n",
    "plt.scatter(close_points[:, 0], close_points[:, 1])"
   ]
  },
  {
   "cell_type": "code",
   "execution_count": 44,
   "id": "ea4cf051-58d6-4f3d-b292-0c6d453c25bb",
   "metadata": {},
   "outputs": [
    {
     "data": {
      "text/plain": [
       "array([  4, 130])"
      ]
     },
     "execution_count": 44,
     "metadata": {},
     "output_type": "execute_result"
    }
   ],
   "source": [
    "bog_coor[0]"
   ]
  },
  {
   "cell_type": "code",
   "execution_count": 45,
   "id": "005c83a0-6f2b-4c01-8fb2-3c59a364dd8e",
   "metadata": {},
   "outputs": [
    {
     "data": {
      "text/plain": [
       "array([  9, 144])"
      ]
     },
     "execution_count": 45,
     "metadata": {},
     "output_type": "execute_result"
    }
   ],
   "source": [
    "close_points[0]"
   ]
  },
  {
   "cell_type": "code",
   "execution_count": 46,
   "id": "340582e3-50f7-4a75-b42b-e3f464d3945d",
   "metadata": {},
   "outputs": [
    {
     "data": {
      "text/plain": [
       "14.866068747318506"
      ]
     },
     "execution_count": 46,
     "metadata": {},
     "output_type": "execute_result"
    }
   ],
   "source": [
    "np.linalg.norm(bog_coor[0] - close_points[0])"
   ]
  },
  {
   "cell_type": "code",
   "execution_count": 47,
   "id": "13f261df-9e7c-4ec7-bcae-9281b11b91b2",
   "metadata": {},
   "outputs": [],
   "source": [
    "dist = np.zeros(90)\n",
    "for i, c in enumerate(bog_coor):\n",
    "    dist[i] = np.linalg.norm(c - close_points[i])"
   ]
  },
  {
   "cell_type": "code",
   "execution_count": 48,
   "id": "3ab4da96-439d-4b11-b332-09267189080e",
   "metadata": {},
   "outputs": [],
   "source": [
    "a = np.argwhere(dist < 30)"
   ]
  },
  {
   "cell_type": "code",
   "execution_count": 49,
   "id": "5b39986c-0afd-4539-b154-8d2c205e0c1d",
   "metadata": {},
   "outputs": [
    {
     "data": {
      "text/plain": [
       "array([[14.86606875],\n",
       "       [27.01851217],\n",
       "       [ 6.        ],\n",
       "       [28.7923601 ],\n",
       "       [26.        ],\n",
       "       [18.35755975],\n",
       "       [17.69180601],\n",
       "       [ 9.05538514],\n",
       "       [17.02938637],\n",
       "       [ 6.40312424],\n",
       "       [ 5.        ],\n",
       "       [14.86606875],\n",
       "       [ 6.08276253],\n",
       "       [12.04159458],\n",
       "       [16.1245155 ],\n",
       "       [ 3.        ],\n",
       "       [13.92838828],\n",
       "       [18.02775638],\n",
       "       [15.8113883 ],\n",
       "       [ 7.07106781],\n",
       "       [29.41088234],\n",
       "       [25.70992026],\n",
       "       [22.84731932],\n",
       "       [21.09502311],\n",
       "       [ 5.65685425],\n",
       "       [11.66190379],\n",
       "       [17.49285568],\n",
       "       [14.56021978],\n",
       "       [ 7.28010989],\n",
       "       [17.88854382],\n",
       "       [21.        ],\n",
       "       [17.72004515],\n",
       "       [ 1.        ],\n",
       "       [20.39607805],\n",
       "       [ 7.61577311],\n",
       "       [21.54065923],\n",
       "       [18.78829423],\n",
       "       [ 1.        ],\n",
       "       [14.14213562],\n",
       "       [17.11724277],\n",
       "       [18.11077028],\n",
       "       [ 8.        ],\n",
       "       [ 2.        ],\n",
       "       [ 2.        ],\n",
       "       [ 4.12310563],\n",
       "       [17.02938637],\n",
       "       [ 4.47213595],\n",
       "       [26.92582404],\n",
       "       [ 2.23606798],\n",
       "       [ 2.23606798],\n",
       "       [14.14213562],\n",
       "       [ 7.07106781],\n",
       "       [12.16552506],\n",
       "       [15.        ],\n",
       "       [14.14213562],\n",
       "       [16.97056275],\n",
       "       [23.2594067 ],\n",
       "       [ 8.48528137],\n",
       "       [ 7.07106781],\n",
       "       [ 7.        ],\n",
       "       [15.23154621],\n",
       "       [16.15549442],\n",
       "       [20.39607805],\n",
       "       [22.        ],\n",
       "       [14.56021978],\n",
       "       [27.78488798],\n",
       "       [ 1.        ],\n",
       "       [ 2.23606798],\n",
       "       [ 1.        ],\n",
       "       [28.44292531],\n",
       "       [28.17800561],\n",
       "       [ 8.54400375],\n",
       "       [11.70469991],\n",
       "       [ 8.06225775],\n",
       "       [ 2.82842712],\n",
       "       [ 1.41421356],\n",
       "       [16.2788206 ],\n",
       "       [ 9.21954446],\n",
       "       [12.04159458],\n",
       "       [14.        ],\n",
       "       [24.35159132]])"
      ]
     },
     "execution_count": 49,
     "metadata": {},
     "output_type": "execute_result"
    }
   ],
   "source": [
    "dist[a]"
   ]
  },
  {
   "cell_type": "code",
   "execution_count": 50,
   "id": "45495ffd-9e85-40be-b825-f0c03310bb03",
   "metadata": {},
   "outputs": [
    {
     "name": "stdout",
     "output_type": "stream",
     "text": [
      "[1 0 1 0 1 1 1 1 0 1 1 1 1 0 1 1 1 1 1 1 1 1 1 0 1 1 1 1 1 1 0 1 1 1 1 1 1\n",
      " 1 1 1 1 1 1 1 1 1 1 1 1 1 1 1 0 1 1 1 1 1 1 1 1 1 1 1 1 1 1 1 1 1 1 1 1 1\n",
      " 1 1 1 1 1 1 1 1 1 1 1 1 1 0 0 1]\n"
     ]
    }
   ],
   "source": [
    "processed_array = np.where(dist < 30, 1, 0)\n",
    "print(processed_array)"
   ]
  },
  {
   "cell_type": "code",
   "execution_count": 51,
   "id": "ca0ae3e1-edd6-4c98-9b0c-768681625cff",
   "metadata": {},
   "outputs": [
    {
     "data": {
      "image/png": "[encoded data removed]",
      "text/plain": [
       "<Figure size 640x480 with 1 Axes>"
      ]
     },
     "metadata": {},
     "output_type": "display_data"
    }
   ],
   "source": [
    "plt.scatter(edges_estm[:, 0], edges_estm[:, 1], s = 1)\n",
    "plt.scatter(CA_bog[:, 0], CA_bog[:, 1], s = 2)\n",
    "for value in processed_array:\n",
    "        plt.plot([CA_bog[:, 0], close_points1[:, 0]], [CA_bog[:, 1], close_points1[:, 1]], lw = 0.5, color = 'pink')        \n",
    "plt.show()"
   ]
  },
  {
   "cell_type": "code",
   "execution_count": 52,
   "id": "3b90c5ef-454a-447c-8cb5-ef08a013b8ad",
   "metadata": {},
   "outputs": [],
   "source": [
    "import MDAnalysis as mda\n",
    "\n",
    "# Load the .gro file\n",
    "start = mda.Universe(\"startl12.gro\")\n",
    "five= mda.Universe(\"500nsl12.gro\")\n",
    "ten = mda.Universe(\"1000nsl12.gro\")\n",
    "fifteen = mda.Universe(\"1500nsl12.gro\")\n",
    "twenty = mda.Universe(\"2000nsl12.gro\")\n",
    "\n",
    "# Accessing atom positions\n",
    "positions_start = start.atoms.positions\n",
    "positions_five = five.atoms.positions\n",
    "positions_ten = ten.atoms.positions\n",
    "positions_fifteen = fifteen.atoms.positions\n",
    "positions_twenty = twenty.atoms.positions\n"
   ]
  },
  {
   "cell_type": "code",
   "execution_count": 53,
   "id": "209df6c3-0cbd-4006-b921-bab6be7c4b7c",
   "metadata": {},
   "outputs": [],
   "source": [
    "# Fonction qui retourne les coordonnées des bog à partir d'un fichier .gro (contenant uniquement des informations sur les bog)\n",
    "def get_bog_position(file_gro) :\n",
    "    with open(file_gro, \"r\") as f :\n",
    "        lines = f.readlines()\n",
    "    f.close()\n",
    "    n = len(lines)\n",
    "    lines  = lines[0:n]\n",
    "    n = len(lines)\n",
    "    pos = np.empty((n, 3))\n",
    "    \n",
    "    i = 0\n",
    "    for line in lines :\n",
    "        pos[i, 0] = line[22:28].strip()\n",
    "        pos[i, 1] = line[29:36].strip()\n",
    "        pos[i, 2] = line[37:43].strip()\n",
    "        i += 1\n",
    "        \n",
    "    return pos"
   ]
  },
  {
   "cell_type": "code",
   "execution_count": 54,
   "id": "59ad074e-4f5b-428b-b91b-a6ad729bef19",
   "metadata": {},
   "outputs": [
    {
     "data": {
      "text/plain": [
       "array([[0.795, 5.489, 7.501],\n",
       "       [0.706, 5.517, 7.463],\n",
       "       [0.72 , 5.618, 7.362],\n",
       "       ...,\n",
       "       [0.475, 3.487, 5.587],\n",
       "       [0.616, 3.43 , 5.604],\n",
       "       [0.67 , 3.454, 5.463]])"
      ]
     },
     "execution_count": 54,
     "metadata": {},
     "output_type": "execute_result"
    }
   ],
   "source": [
    "\n",
    "gro_file = \"startl12.gro\"\n",
    "with open(gro_file, \"r\") as file:\n",
    "    lines = file.readlines()\n",
    "bog_molecule_lines = []\n",
    "\n",
    "collect = False\n",
    "\n",
    "for line in lines:\n",
    "    if \"830BOG\" in line: \n",
    "        collect = True\n",
    "    if collect and \"BOG\" in line:  \n",
    "        bog_molecule_lines.append(line.strip() + \"\\n\")  \n",
    "    elif collect and \"BOG\" not in line:  \n",
    "        break\n",
    "\n",
    "with open(\"bog_molecules_start.gro\", \"w\") as output_file:\n",
    "  output_file.writelines(bog_molecule_lines)\n",
    "start_bog = get_bog_position(\"bog_molecules_start.gro\")\n",
    "start_bog"
   ]
  },
  {
   "cell_type": "code",
   "execution_count": 55,
   "id": "5335f2c7-1bdb-434b-9d1f-deeaa6a17636",
   "metadata": {},
   "outputs": [
    {
     "data": {
      "text/plain": [
       "array([[0.924, 0.736, 6.816],\n",
       "       [0.855, 0.76 , 6.748],\n",
       "       [0.761, 0.838, 6.824],\n",
       "       ...,\n",
       "       [0.801, 3.164, 6.114],\n",
       "       [0.83 , 3.053, 6.013],\n",
       "       [0.926, 3.102, 5.905]])"
      ]
     },
     "execution_count": 55,
     "metadata": {},
     "output_type": "execute_result"
    }
   ],
   "source": [
    "\n",
    "gro_file = \"500nsl12.gro\" \n",
    "with open(gro_file, \"r\") as file:\n",
    "    lines = file.readlines()\n",
    "\n",
    "bog_molecule_lines = []\n",
    "\n",
    "collect = False\n",
    "\n",
    "for line in lines:\n",
    "    if \"830BOG\" in line: \n",
    "        collect = True\n",
    "    if collect and \"BOG\" in line:  \n",
    "        bog_molecule_lines.append(line.strip() + \"\\n\")  \n",
    "    elif collect and \"BOG\" not in line:  \n",
    "        break\n",
    "\n",
    "with open(\"bog_molecules_500.gro\", \"w\") as output_file:\n",
    "  output_file.writelines(bog_molecule_lines)\n",
    "five_bog = get_bog_position(\"bog_molecules_500.gro\")\n",
    "five_bog\n"
   ]
  },
  {
   "cell_type": "code",
   "execution_count": 56,
   "id": "69034996-d41c-41e1-98d3-198f7c664f16",
   "metadata": {},
   "outputs": [
    {
     "data": {
      "text/plain": [
       "array([[0.968, 6.33 , 7.746],\n",
       "       [0.913, 6.246, 7.75 ],\n",
       "       [0.943, 6.18 , 7.626],\n",
       "       ...,\n",
       "       [0.151, 7.956, 4.727],\n",
       "       [0.252, 7.874, 4.646],\n",
       "       [0.39 , 7.873, 4.712]])"
      ]
     },
     "execution_count": 56,
     "metadata": {},
     "output_type": "execute_result"
    }
   ],
   "source": [
    " \n",
    "gro_file = \"1000nsl12.gro\"\n",
    "with open(gro_file, \"r\") as file:\n",
    "    lines = file.readlines()\n",
    "\n",
    "bog_molecule_lines = []\n",
    "\n",
    "collect = False\n",
    "\n",
    "for line in lines:\n",
    "    if \"830BOG\" in line: \n",
    "        collect = True\n",
    "    if collect and \"BOG\" in line:  \n",
    "        bog_molecule_lines.append(line.strip() + \"\\n\")  \n",
    "    elif collect and \"BOG\" not in line:  \n",
    "        break\n",
    "\n",
    "with open(\"bog_molecules_1000.gro\", \"w\") as output_file:\n",
    "  output_file.writelines(bog_molecule_lines)\n",
    "ten_bog = get_bog_position(\"bog_molecules_1000.gro\")\n",
    "ten_bog\n"
   ]
  },
  {
   "cell_type": "code",
   "execution_count": 57,
   "id": "386964df-cef8-4e2e-8b02-0baf132f00f7",
   "metadata": {},
   "outputs": [
    {
     "data": {
      "text/plain": [
       "array([[0.659, 0.132, 2.711],\n",
       "       [0.732, 0.086, 2.762],\n",
       "       [0.824, 0.183, 2.816],\n",
       "       ...,\n",
       "       [0.409, 3.358, 5.574],\n",
       "       [0.367, 3.497, 5.526],\n",
       "       [0.218, 3.529, 5.513]])"
      ]
     },
     "execution_count": 57,
     "metadata": {},
     "output_type": "execute_result"
    }
   ],
   "source": [
    "gro_file = \"1500nsl12.gro\"\n",
    "with open(gro_file, \"r\") as file:\n",
    "    lines = file.readlines()\n",
    "\n",
    "bog_molecule_lines = []\n",
    "\n",
    "collect = False\n",
    "\n",
    "for line in lines:\n",
    "    if \"830BOG\" in line: \n",
    "        collect = True\n",
    "    if collect and \"BOG\" in line:  \n",
    "        bog_molecule_lines.append(line.strip() + \"\\n\")  \n",
    "    elif collect and \"BOG\" not in line:  \n",
    "        break\n",
    "\n",
    "with open(\"bog_molecules_1500.gro\", \"w\") as output_file:\n",
    "  output_file.writelines(bog_molecule_lines)\n",
    "fifteen_bog = get_bog_position(\"bog_molecules_1500.gro\")\n",
    "fifteen_bog"
   ]
  },
  {
   "cell_type": "code",
   "execution_count": 58,
   "id": "a246431f-2444-4048-9966-7c3bcfe98439",
   "metadata": {},
   "outputs": [],
   "source": [
    "gro_file = \"2000nsl12.gro\" \n",
    "with open(gro_file, \"r\") as file:\n",
    "    lines = file.readlines()\n",
    "\n",
    "bog_molecule_lines = []\n",
    "\n",
    "collect = False\n",
    "\n",
    "for line in lines:\n",
    "    if \"830BOG\" in line: \n",
    "        collect = True\n",
    "    if collect and \"BOG\" in line:  \n",
    "        bog_molecule_lines.append(line.strip() + \"\\n\")  \n",
    "    elif collect and \"BOG\" not in line:  \n",
    "        break\n",
    "\n",
    "\n",
    "with open(\"bog_molecules_2000.gro\", \"w\") as output_file:\n",
    "  output_file.writelines(bog_molecule_lines)\n",
    "twenty_bog = get_bog_position(\"bog_molecules_2000.gro\")\n"
   ]
  },
  {
   "cell_type": "code",
   "execution_count": 59,
   "id": "a2df6525-9fed-42bd-b0e9-15c333ba7a4e",
   "metadata": {},
   "outputs": [],
   "source": [
    "j = 16\n",
    "CA_five_bog = np.empty((90, 2))\n",
    "for i in range(90) :\n",
    "    CA_five_bog[i, 0] = five_bog[j, 0]\n",
    "    CA_five_bog[i, 1] = five_bog[j, 1]\n",
    "    j += 24\n",
    "np.set_printoptions(suppress=True, precision=3)"
   ]
  },
  {
   "cell_type": "code",
   "execution_count": 60,
   "id": "3df2f38b-46e2-440d-b98f-b96ff90fc956",
   "metadata": {},
   "outputs": [],
   "source": [
    "j=16\n",
    "CA_ten_bog = np.empty((90, 2))\n",
    "for i in range(90) :\n",
    "    CA_ten_bog[i, 0] = ten_bog[j, 0]\n",
    "    CA_ten_bog[i, 1] = ten_bog[j, 1]\n",
    "    j += 24\n",
    "np.set_printoptions(suppress=True, precision=3)"
   ]
  },
  {
   "cell_type": "code",
   "execution_count": 61,
   "id": "ee4048e1-f239-4367-aae4-f5a72e4d72bb",
   "metadata": {},
   "outputs": [],
   "source": [
    "j=16\n",
    "CA_fifteen_bog = np.empty((90, 2))\n",
    "for i in range(90) :\n",
    "    CA_fifteen_bog[i, 0] = fifteen_bog[j, 0]\n",
    "    CA_fifteen_bog[i, 1] = fifteen_bog[j, 1]\n",
    "    j += 24\n",
    "np.set_printoptions(suppress=True, precision=3)"
   ]
  },
  {
   "cell_type": "code",
   "execution_count": 62,
   "id": "b8c175f6-0953-4592-a7af-f7843b7907c7",
   "metadata": {},
   "outputs": [],
   "source": [
    "j=16\n",
    "CA_twenty_bog = np.empty((90, 2))\n",
    "for i in range(90) :\n",
    "    CA_twenty_bog[i, 0] = twenty_bog[j, 0]\n",
    "    CA_twenty_bog[i, 1] = twenty_bog[j, 1]\n",
    "    j += 24\n",
    "np.set_printoptions(suppress=True, precision=3)"
   ]
  },
  {
   "cell_type": "code",
   "execution_count": 63,
   "id": "c1935229-59a7-4a8a-90d3-aeee11cc890a",
   "metadata": {},
   "outputs": [],
   "source": [
    "j = 16\n",
    "CA_start_bog = np.empty((90, 2))\n",
    "for i in range(90) :\n",
    "    CA_start_bog[i, 0] = start_bog[j, 0]\n",
    "    CA_start_bog[i, 1] = start_bog[j, 1]\n",
    "    j += 24\n",
    "np.set_printoptions(suppress=True, precision=3)"
   ]
  },
  {
   "cell_type": "code",
   "execution_count": 64,
   "id": "00b7ec7d-cb95-4606-869c-50324540624e",
   "metadata": {},
   "outputs": [
    {
     "data": {
      "text/plain": [
       "array([12.605,  4.777, 13.026, 10.55 ,  3.837,  2.426, 13.553, 10.935,\n",
       "        8.53 , 10.269, 13.353,  1.154,  4.802,  9.358,  5.636,  5.327,\n",
       "        2.279,  3.254,  9.95 , 11.022,  6.302,  8.133,  5.596, 15.728,\n",
       "       13.427, 12.864, 10.907, 14.039,  2.151,  2.023, 11.29 , 11.149,\n",
       "        6.084,  9.247, 13.764, 11.711,  5.398,  2.896,  7.74 , 11.244,\n",
       "        9.118,  3.692,  7.924,  6.795,  6.795, 13.188, 11.987,  7.55 ,\n",
       "        7.619,  9.004,  9.745,  8.66 ,  4.85 ,  5.567,  4.781, 11.635,\n",
       "        1.775, 11.131,  4.627,  9.85 ,  6.482, 11.283,  6.933,  9.954,\n",
       "        9.912, 11.931,  3.677,  9.891,  4.102,  9.965, 11.9  , 10.888,\n",
       "       14.344, 12.531, 12.854,  9.468,  5.305,  0.227,  2.527, 10.024,\n",
       "        4.7  , 13.985,  9.327, 10.113, 10.088, 15.298,  2.308,  6.146,\n",
       "        8.731,  5.897])"
      ]
     },
     "execution_count": 64,
     "metadata": {},
     "output_type": "execute_result"
    }
   ],
   "source": [
    "dist_start= np.zeros(90)\n",
    "for i, c in enumerate(CA_start_bog):\n",
    "    dist_start[i] = np.linalg.norm(c - close_points1[i])\n",
    "# a = np.argwhere(dist_start < 30)\n",
    "# dist_start[a]\n",
    "# processed_array_1 = np.where(dist_start < 30, 1, 0)\n",
    "# print(processed_array_1)\n",
    "dist_start"
   ]
  },
  {
   "cell_type": "code",
   "execution_count": 65,
   "id": "c030775a-c973-4dcd-b4f7-6d4f4bc2a0fc",
   "metadata": {},
   "outputs": [
    {
     "data": {
      "text/plain": [
       "array([13.27 ,  2.906, 13.543, 10.752,  3.61 ,  2.869, 11.562, 10.613,\n",
       "        6.519,  9.702, 13.419,  2.137,  3.798, 10.342,  7.821,  8.48 ,\n",
       "        2.75 ,  3.043,  9.351,  5.012,  8.466,  4.437,  5.36 , 12.544,\n",
       "       13.919, 13.797, 10.195, 14.769,  6.805,  2.59 , 13.494, 12.178,\n",
       "        6.352, 10.249, 13.561, 13.492,  6.585,  2.397,  8.448, 10.661,\n",
       "       10.252,  4.319,  9.924,  1.414,  2.934, 13.58 , 10.836,  5.777,\n",
       "        6.993, 10.209,  9.94 , 10.474,  9.588,  6.782,  4.096, 10.925,\n",
       "        2.487, 14.885,  5.701,  9.614, 11.937, 10.159,  1.729,  8.58 ,\n",
       "        9.3  , 14.166,  4.57 ,  8.635,  5.224, 10.191, 11.479, 14.056,\n",
       "       14.797, 12.632, 12.704,  8.694,  2.22 ,  2.75 ,  0.099, 10.909,\n",
       "        5.264, 10.949,  5.327, 10.156,  6.824, 15.08 ,  2.445, 10.047,\n",
       "        7.329,  5.871])"
      ]
     },
     "execution_count": 65,
     "metadata": {},
     "output_type": "execute_result"
    }
   ],
   "source": [
    "dist_five= np.zeros(90)\n",
    "for i, c in enumerate(CA_five_bog):\n",
    "    dist_five[i] = np.linalg.norm(c - close_points1[i])\n",
    "dist_five\n",
    "# a = np.argwhere(dist_five < 30)\n",
    "# dist_five[a]\n",
    "# processed_array_2 = np.where(dist_five < 30, 1, 0)\n",
    "# print(processed_array_2)"
   ]
  },
  {
   "cell_type": "code",
   "execution_count": 66,
   "id": "b0b6f435-df26-445a-81ac-a3839a47b406",
   "metadata": {},
   "outputs": [
    {
     "data": {
      "text/plain": [
       "array([12.297,  6.548, 13.016, 10.368,  8.92 ,  2.958, 13.028,  6.283,\n",
       "       10.805,  9.43 , 13.907,  1.819,  4.794,  9.583,  5.336,  5.639,\n",
       "        3.447,  5.488,  8.397,  4.095,  6.541,  8.945,  6.494, 14.932,\n",
       "       13.261, 12.854,  8.62 , 14.399,  3.403,  5.549, 13.327, 15.055,\n",
       "        5.214,  9.91 ,  9.918, 11.519,  7.92 ,  2.407,  9.26 , 10.776,\n",
       "        9.942,  4.839,  9.209,  3.937,  3.146, 13.355,  9.778,  4.216,\n",
       "        9.426,  5.911,  8.628,  9.504, 11.081,  2.613,  3.149, 11.302,\n",
       "        2.102, 11.28 ,  4.105, 10.255,  8.715, 10.291,  2.246, 10.013,\n",
       "        6.776, 12.351,  5.289,  9.437,  8.086, 10.723,  8.626, 11.326,\n",
       "       13.65 , 12.32 , 14.644,  9.504,  4.352,  4.55 ,  0.512, 10.791,\n",
       "        4.784, 12.338,  8.78 , 14.334,  6.483, 15.124,  2.913,  9.241,\n",
       "        7.91 ,  4.033])"
      ]
     },
     "execution_count": 66,
     "metadata": {},
     "output_type": "execute_result"
    }
   ],
   "source": [
    "dist_ten= np.zeros(90)\n",
    "for i, c in enumerate(CA_ten_bog):\n",
    "    dist_ten[i] = np.linalg.norm(c - close_points1[i])\n",
    "dist_ten\n",
    "# a = np.argwhere(dist_ten < 30)\n",
    "# dist_ten[a]\n",
    "# processed_array_3 = np.where(dist_ten < 30, 1, 0)\n",
    "# print(processed_array_3)"
   ]
  },
  {
   "cell_type": "code",
   "execution_count": 67,
   "id": "0eee8731-7dcf-428b-806b-383bfde1419d",
   "metadata": {},
   "outputs": [
    {
     "data": {
      "text/plain": [
       "array([13.866,  7.004, 12.742, 13.22 ,  7.494,  4.808, 13.039, 11.867,\n",
       "        8.091,  9.525, 13.972,  1.676,  7.205, 10.336,  5.244,  6.443,\n",
       "        1.709,  4.898,  7.15 ,  9.843,  5.938,  4.985,  8.065, 15.849,\n",
       "       11.974, 13.409,  7.036,  9.499,  2.425,  4.116, 12.387, 15.198,\n",
       "        4.579,  9.822, 10.626, 14.421,  4.277,  5.139,  6.989, 10.626,\n",
       "        9.91 ,  7.767,  9.018,  6.04 ,  5.763, 14.533, 10.688,  4.859,\n",
       "       10.572, 10.633,  8.639, 10.293,  8.955,  5.388,  6.361, 10.515,\n",
       "        1.291, 12.762,  4.63 , 10.648,  6.693, 11.38 ,  2.302,  9.15 ,\n",
       "        9.453, 13.849,  1.562, 10.221,  7.707, 11.308, 10.468, 11.909,\n",
       "       13.428, 15.478, 13.303,  8.501,  6.931,  3.981,  1.206, 10.473,\n",
       "        5.311,  9.826,  5.638, 13.814,  3.713, 12.334,  2.419,  9.017,\n",
       "        6.834,  5.734])"
      ]
     },
     "execution_count": 67,
     "metadata": {},
     "output_type": "execute_result"
    }
   ],
   "source": [
    "dist_fifteen= np.zeros(90)\n",
    "for i, c in enumerate(CA_fifteen_bog):\n",
    "    dist_fifteen[i] = np.linalg.norm(c - close_points1[i])\n",
    "dist_fifteen\n",
    "# a = np.argwhere(dist_fifteen < 30)\n",
    "# dist_fifteen[a]\n",
    "# processed_array_5 = np.where(dist_fifteen < 30, 1, 0)\n",
    "# print(processed_array_5)"
   ]
  },
  {
   "cell_type": "code",
   "execution_count": 68,
   "id": "97d3f5c7-4a98-4ac6-a3dc-60342e95de7d",
   "metadata": {},
   "outputs": [
    {
     "data": {
      "text/plain": [
       "array([12.884,  2.174, 13.515, 11.336,  3.234,  2.365, 12.927,  9.908,\n",
       "        9.36 ,  9.675, 12.8  ,  6.269,  3.498, 10.676,  4.862,  5.239,\n",
       "        4.767,  3.18 ,  9.289,  4.93 ,  8.296,  3.612,  7.633, 14.714,\n",
       "       14.37 , 12.656,  7.038, 12.   ,  2.054,  3.218, 14.133, 12.178,\n",
       "        6.072,  9.309, 12.51 , 15.33 ,  6.675,  8.615,  6.322, 10.947,\n",
       "        8.705,  3.613,  8.237,  3.693,  4.49 , 12.982, 11.757,  5.253,\n",
       "        9.99 , 10.234,  9.421,  9.293,  5.055,  5.004,  6.044, 10.672,\n",
       "        2.794, 11.963,  4.674,  9.607,  7.319, 11.958,  2.139, 10.22 ,\n",
       "        8.877, 13.007,  0.21 ,  8.812,  7.996, 10.641,  7.438, 11.967,\n",
       "       14.41 , 12.037, 15.584, 10.159,  3.983,  2.083,  3.006, 13.093,\n",
       "        7.059, 10.306,  6.385, 15.63 ,  3.861, 13.501,  4.307, 11.187,\n",
       "       10.666,  6.387])"
      ]
     },
     "execution_count": 68,
     "metadata": {},
     "output_type": "execute_result"
    }
   ],
   "source": [
    "dist_twenty= np.zeros(90)\n",
    "for i, c in enumerate(CA_twenty_bog):\n",
    "    dist_twenty[i] = np.linalg.norm(c - close_points1[i])\n",
    "dist_twenty\n",
    "# a = np.argwhere(dist_twenty < 30)\n",
    "# dist_twenty[a]\n",
    "# processed_array_4 = np.where(dist_twenty < 30, 1, 0)\n",
    "# print(processed_array_4)"
   ]
  },
  {
   "cell_type": "code",
   "execution_count": 69,
   "id": "137eaf81-2bde-4c29-9800-98f6d566adea",
   "metadata": {},
   "outputs": [
    {
     "data": {
      "text/plain": [
       "array([0, 0, 0, 0, 0, 0, 0, 0, 0, 0, 0, 0, 0, 0, 0, 0, 0, 0, 0, 0, 0, 0,\n",
       "       0, 0, 0, 0, 0, 0, 0, 0, 0, 0, 0, 0, 0, 0, 0, 0, 0, 0, 0, 0, 0, 0,\n",
       "       0, 0, 0, 0, 0, 0, 0, 0, 0, 0, 0, 0, 0, 0, 0, 0, 0, 0, 0, 0, 0, 0,\n",
       "       0, 0, 0, 0, 0, 0, 0, 0, 0, 0, 1, 0, 0, 0, 0, 0, 0, 0, 0, 0, 0, 0,\n",
       "       0, 0])"
      ]
     },
     "execution_count": 69,
     "metadata": {},
     "output_type": "execute_result"
    }
   ],
   "source": [
    "def pair_distances(p_1, p_2):\n",
    "    assert p_1.shape == p_2.shape\n",
    "    res = np.zeros(p_1.shape[0])\n",
    "    \n",
    "    for i, p in enumerate(p_1):\n",
    "        res[i] = np.linalg.norm(p - p_2[i])    \n",
    "            \n",
    "    return res\n",
    "\n",
    "@np.vectorize\n",
    "def binirize(el, cut_off=3):\n",
    "    # Zero or one depending on cut-off\n",
    "    return 1 if el > cut_off else 0\n",
    "\n",
    "\n",
    "res = pair_distances(CA_bog, close_points1)\n",
    "binirize(res)"
   ]
  },
  {
   "cell_type": "code",
   "execution_count": 70,
   "id": "ef73bbbb-80ad-4042-969c-2cdaa5be2cec",
   "metadata": {},
   "outputs": [
    {
     "data": {
      "text/plain": [
       "array([1, 1, 1, 1, 1, 0, 1, 1, 1, 1, 1, 0, 1, 1, 1, 1, 0, 1, 1, 1, 1, 1,\n",
       "       1, 1, 1, 1, 1, 1, 0, 0, 1, 1, 1, 1, 1, 1, 1, 0, 1, 1, 1, 1, 1, 1,\n",
       "       1, 1, 1, 1, 1, 1, 1, 1, 1, 1, 1, 1, 0, 1, 1, 1, 1, 1, 1, 1, 1, 1,\n",
       "       1, 1, 1, 1, 1, 1, 1, 1, 1, 1, 1, 0, 0, 1, 1, 1, 1, 1, 1, 1, 0, 1,\n",
       "       1, 1])"
      ]
     },
     "execution_count": 70,
     "metadata": {},
     "output_type": "execute_result"
    }
   ],
   "source": [
    "res_s = pair_distances(CA_start_bog, close_points1)\n",
    "res_start= binirize(res_s)\n",
    "res_start"
   ]
  },
  {
   "cell_type": "code",
   "execution_count": 71,
   "id": "3fd90325-9c99-478c-b35f-65cf2de93ece",
   "metadata": {},
   "outputs": [
    {
     "data": {
      "text/plain": [
       "array([1, 0, 1, 1, 1, 0, 1, 1, 1, 1, 1, 0, 1, 1, 1, 1, 0, 1, 1, 1, 1, 1,\n",
       "       1, 1, 1, 1, 1, 1, 1, 0, 1, 1, 1, 1, 1, 1, 1, 0, 1, 1, 1, 1, 1, 0,\n",
       "       0, 1, 1, 1, 1, 1, 1, 1, 1, 1, 1, 1, 0, 1, 1, 1, 1, 1, 0, 1, 1, 1,\n",
       "       1, 1, 1, 1, 1, 1, 1, 1, 1, 1, 0, 0, 0, 1, 1, 1, 1, 1, 1, 1, 0, 1,\n",
       "       1, 1])"
      ]
     },
     "execution_count": 71,
     "metadata": {},
     "output_type": "execute_result"
    }
   ],
   "source": [
    "res_f = pair_distances(CA_five_bog, close_points1)\n",
    "res_five= binirize(res_f)\n",
    "res_five"
   ]
  },
  {
   "cell_type": "code",
   "execution_count": 72,
   "id": "774e047f-1ba2-4d61-be95-1c030924dd49",
   "metadata": {},
   "outputs": [
    {
     "data": {
      "text/plain": [
       "array([1, 1, 1, 1, 1, 0, 1, 1, 1, 1, 1, 0, 1, 1, 1, 1, 1, 1, 1, 1, 1, 1,\n",
       "       1, 1, 1, 1, 1, 1, 1, 1, 1, 1, 1, 1, 1, 1, 1, 0, 1, 1, 1, 1, 1, 1,\n",
       "       1, 1, 1, 1, 1, 1, 1, 1, 1, 0, 1, 1, 0, 1, 1, 1, 1, 1, 0, 1, 1, 1,\n",
       "       1, 1, 1, 1, 1, 1, 1, 1, 1, 1, 1, 1, 0, 1, 1, 1, 1, 1, 1, 1, 0, 1,\n",
       "       1, 1])"
      ]
     },
     "execution_count": 72,
     "metadata": {},
     "output_type": "execute_result"
    }
   ],
   "source": [
    "res_t = pair_distances(CA_ten_bog, close_points1)\n",
    "res_ten= binirize(res_t)\n",
    "res_ten"
   ]
  },
  {
   "cell_type": "code",
   "execution_count": 73,
   "id": "dd7697c9-e8fa-4a50-9b97-13cbdeb107b3",
   "metadata": {},
   "outputs": [
    {
     "data": {
      "text/plain": [
       "array([1, 1, 1, 1, 1, 1, 1, 1, 1, 1, 1, 0, 1, 1, 1, 1, 0, 1, 1, 1, 1, 1,\n",
       "       1, 1, 1, 1, 1, 1, 0, 1, 1, 1, 1, 1, 1, 1, 1, 1, 1, 1, 1, 1, 1, 1,\n",
       "       1, 1, 1, 1, 1, 1, 1, 1, 1, 1, 1, 1, 0, 1, 1, 1, 1, 1, 0, 1, 1, 1,\n",
       "       0, 1, 1, 1, 1, 1, 1, 1, 1, 1, 1, 1, 0, 1, 1, 1, 1, 1, 1, 1, 0, 1,\n",
       "       1, 1])"
      ]
     },
     "execution_count": 73,
     "metadata": {},
     "output_type": "execute_result"
    }
   ],
   "source": [
    "res_fi = pair_distances(CA_fifteen_bog, close_points1)\n",
    "res_fifteen= binirize(res_fi)\n",
    "res_fifteen"
   ]
  },
  {
   "cell_type": "code",
   "execution_count": 74,
   "id": "33717d05-6790-46c7-84b5-5f68f48f154d",
   "metadata": {},
   "outputs": [
    {
     "data": {
      "text/plain": [
       "array([1, 0, 1, 1, 1, 0, 1, 1, 1, 1, 1, 1, 1, 1, 1, 1, 1, 1, 1, 1, 1, 1,\n",
       "       1, 1, 1, 1, 1, 1, 0, 1, 1, 1, 1, 1, 1, 1, 1, 1, 1, 1, 1, 1, 1, 1,\n",
       "       1, 1, 1, 1, 1, 1, 1, 1, 1, 1, 1, 1, 0, 1, 1, 1, 1, 1, 0, 1, 1, 1,\n",
       "       0, 1, 1, 1, 1, 1, 1, 1, 1, 1, 1, 0, 1, 1, 1, 1, 1, 1, 1, 1, 1, 1,\n",
       "       1, 1])"
      ]
     },
     "execution_count": 74,
     "metadata": {},
     "output_type": "execute_result"
    }
   ],
   "source": [
    "res_tw = pair_distances(CA_twenty_bog, close_points1)\n",
    "res_twenty= binirize(res_tw)\n",
    "res_twenty"
   ]
  },
  {
   "cell_type": "code",
   "execution_count": 97,
   "id": "4662d6c3-ecc4-4e2f-953c-f2c579fb8bd0",
   "metadata": {},
   "outputs": [],
   "source": [
    "# dict1 = {\n",
    "#     \"start\": CA_start_bog,\n",
    "#     \"500\": CA_five_bog,\n",
    "#     \"1000\": CA_ten_bog,\n",
    "#     \"1500\": CA_fifteen_bog,\n",
    "#     \"2000\": CA_twenty_bog\n",
    "# }\n",
    "dict2 = {\n",
    "    \"0\": res_start,\n",
    "    \"500\": res_five,\n",
    "    \"1000\": res_ten,\n",
    "    \"1500\": res_fifteen,\n",
    "    \"2000\": res_twenty\n",
    "}\n",
    "\n",
    "# df1 = pd.DataFrame({\n",
    "#     \"start_x\": [x[0] for x in dict1[\"start\"]],\n",
    "#     \"start_y\": [x[1] for x in dict1[\"start\"]],\n",
    "#     \"500_x\": [x[0] for x in dict1[\"500\"]],\n",
    "#     \"500_y\": [x[1] for x in dict1[\"500\"]],\n",
    "#     \"1000_x\": [x[0] for x in dict1[\"1000\"]],\n",
    "#     \"1000_y\": [x[1] for x in dict1[\"1000\"]],\n",
    "#     \"1500_x\": [x[0] for x in dict1[\"1500\"]],\n",
    "#     \"1500_y\": [x[1] for x in dict1[\"1500\"]],\n",
    "#     \"2000_x\": [x[0] for x in dict1[\"2000\"]],\n",
    "#     \"2000_y\": [x[1] for x in dict1[\"2000\"]]\n",
    "# })\n",
    "\n",
    "df = pd.DataFrame.from_dict(dict2)\n",
    "\n",
    "# df_combined = pd.concat([df1, df2], axis=1)"
   ]
  },
  {
   "cell_type": "code",
   "execution_count": 98,
   "id": "0b1a292f-da35-48e0-a879-d6c903950b0b",
   "metadata": {},
   "outputs": [
    {
     "data": {
      "text/plain": [
       "array([  9, 144])"
      ]
     },
     "execution_count": 98,
     "metadata": {},
     "output_type": "execute_result"
    }
   ],
   "source": [
    "close_points[0]"
   ]
  },
  {
   "cell_type": "code",
   "execution_count": 99,
   "id": "1bfe7adb-e8fe-49cd-904a-b3e947eb70f2",
   "metadata": {},
   "outputs": [
    {
     "data": {
      "text/plain": [
       "array([0.596, 5.789])"
      ]
     },
     "execution_count": 99,
     "metadata": {},
     "output_type": "execute_result"
    }
   ],
   "source": [
    "CA_start_bog[0]"
   ]
  },
  {
   "cell_type": "code",
   "execution_count": 100,
   "id": "3ef32f6c-022c-4059-9916-95d60d0606e1",
   "metadata": {},
   "outputs": [],
   "source": [
    "def residence_time(data):\n",
    "    row_sum = data.sum(axis=1).round()\n",
    "    row_len = data.shape[1]\n",
    "    data['residence_time'] = row_sum/row_len\n",
    "    return data\n"
   ]
  },
  {
   "cell_type": "code",
   "execution_count": 101,
   "id": "79330c7a-289a-4e2b-9af7-41b8116f6c87",
   "metadata": {
    "scrolled": true
   },
   "outputs": [
    {
     "data": {
      "text/html": [
       "<div>\n",
       "<style scoped>\n",
       "    .dataframe tbody tr th:only-of-type {\n",
       "        vertical-align: middle;\n",
       "    }\n",
       "\n",
       "    .dataframe tbody tr th {\n",
       "        vertical-align: top;\n",
       "    }\n",
       "\n",
       "    .dataframe thead th {\n",
       "        text-align: right;\n",
       "    }\n",
       "</style>\n",
       "<table border=\"1\" class=\"dataframe\">\n",
       "  <thead>\n",
       "    <tr style=\"text-align: right;\">\n",
       "      <th></th>\n",
       "      <th>0</th>\n",
       "      <th>500</th>\n",
       "      <th>1000</th>\n",
       "      <th>1500</th>\n",
       "      <th>2000</th>\n",
       "      <th>residence_time</th>\n",
       "    </tr>\n",
       "  </thead>\n",
       "  <tbody>\n",
       "    <tr>\n",
       "      <th>0</th>\n",
       "      <td>1</td>\n",
       "      <td>1</td>\n",
       "      <td>1</td>\n",
       "      <td>1</td>\n",
       "      <td>1</td>\n",
       "      <td>1.0</td>\n",
       "    </tr>\n",
       "    <tr>\n",
       "      <th>1</th>\n",
       "      <td>1</td>\n",
       "      <td>0</td>\n",
       "      <td>1</td>\n",
       "      <td>1</td>\n",
       "      <td>0</td>\n",
       "      <td>0.6</td>\n",
       "    </tr>\n",
       "    <tr>\n",
       "      <th>2</th>\n",
       "      <td>1</td>\n",
       "      <td>1</td>\n",
       "      <td>1</td>\n",
       "      <td>1</td>\n",
       "      <td>1</td>\n",
       "      <td>1.0</td>\n",
       "    </tr>\n",
       "    <tr>\n",
       "      <th>3</th>\n",
       "      <td>1</td>\n",
       "      <td>1</td>\n",
       "      <td>1</td>\n",
       "      <td>1</td>\n",
       "      <td>1</td>\n",
       "      <td>1.0</td>\n",
       "    </tr>\n",
       "    <tr>\n",
       "      <th>4</th>\n",
       "      <td>1</td>\n",
       "      <td>1</td>\n",
       "      <td>1</td>\n",
       "      <td>1</td>\n",
       "      <td>1</td>\n",
       "      <td>1.0</td>\n",
       "    </tr>\n",
       "    <tr>\n",
       "      <th>...</th>\n",
       "      <td>...</td>\n",
       "      <td>...</td>\n",
       "      <td>...</td>\n",
       "      <td>...</td>\n",
       "      <td>...</td>\n",
       "      <td>...</td>\n",
       "    </tr>\n",
       "    <tr>\n",
       "      <th>85</th>\n",
       "      <td>1</td>\n",
       "      <td>1</td>\n",
       "      <td>1</td>\n",
       "      <td>1</td>\n",
       "      <td>1</td>\n",
       "      <td>1.0</td>\n",
       "    </tr>\n",
       "    <tr>\n",
       "      <th>86</th>\n",
       "      <td>0</td>\n",
       "      <td>0</td>\n",
       "      <td>0</td>\n",
       "      <td>0</td>\n",
       "      <td>1</td>\n",
       "      <td>0.2</td>\n",
       "    </tr>\n",
       "    <tr>\n",
       "      <th>87</th>\n",
       "      <td>1</td>\n",
       "      <td>1</td>\n",
       "      <td>1</td>\n",
       "      <td>1</td>\n",
       "      <td>1</td>\n",
       "      <td>1.0</td>\n",
       "    </tr>\n",
       "    <tr>\n",
       "      <th>88</th>\n",
       "      <td>1</td>\n",
       "      <td>1</td>\n",
       "      <td>1</td>\n",
       "      <td>1</td>\n",
       "      <td>1</td>\n",
       "      <td>1.0</td>\n",
       "    </tr>\n",
       "    <tr>\n",
       "      <th>89</th>\n",
       "      <td>1</td>\n",
       "      <td>1</td>\n",
       "      <td>1</td>\n",
       "      <td>1</td>\n",
       "      <td>1</td>\n",
       "      <td>1.0</td>\n",
       "    </tr>\n",
       "  </tbody>\n",
       "</table>\n",
       "<p>90 rows × 6 columns</p>\n",
       "</div>"
      ],
      "text/plain": [
       "    0  500  1000  1500  2000  residence_time\n",
       "0   1    1     1     1     1             1.0\n",
       "1   1    0     1     1     0             0.6\n",
       "2   1    1     1     1     1             1.0\n",
       "3   1    1     1     1     1             1.0\n",
       "4   1    1     1     1     1             1.0\n",
       ".. ..  ...   ...   ...   ...             ...\n",
       "85  1    1     1     1     1             1.0\n",
       "86  0    0     0     0     1             0.2\n",
       "87  1    1     1     1     1             1.0\n",
       "88  1    1     1     1     1             1.0\n",
       "89  1    1     1     1     1             1.0\n",
       "\n",
       "[90 rows x 6 columns]"
      ]
     },
     "execution_count": 101,
     "metadata": {},
     "output_type": "execute_result"
    }
   ],
   "source": [
    "# df = df.drop(\"residence_time\", axis=1)\n",
    "residence_time(df)"
   ]
  },
  {
   "cell_type": "code",
   "execution_count": 102,
   "id": "877e57ce-c18e-45b2-8344-c8f9cd6f110d",
   "metadata": {},
   "outputs": [],
   "source": [
    "def print_df(data):\n",
    "    \n",
    "    bg_list = []\n",
    "    for i in range(len(data)):\n",
    "        bg_list.append(f\"bog{i+1}\")\n",
    "    data.insert(0,\"BOG\",bg_list)\n",
    "\n",
    "\n",
    "    return data\n",
    "    "
   ]
  },
  {
   "cell_type": "code",
   "execution_count": 103,
   "id": "b8e1d59f-293a-4a2b-bbd6-0c8e4d91d110",
   "metadata": {},
   "outputs": [
    {
     "data": {
      "text/html": [
       "<style type=\"text/css\">\n",
       "</style>\n",
       "<table id=\"T_d2230\">\n",
       "  <thead>\n",
       "    <tr>\n",
       "      <th id=\"T_d2230_level0_col0\" class=\"col_heading level0 col0\" >BOG</th>\n",
       "      <th id=\"T_d2230_level0_col1\" class=\"col_heading level0 col1\" >0</th>\n",
       "      <th id=\"T_d2230_level0_col2\" class=\"col_heading level0 col2\" >500</th>\n",
       "      <th id=\"T_d2230_level0_col3\" class=\"col_heading level0 col3\" >1000</th>\n",
       "      <th id=\"T_d2230_level0_col4\" class=\"col_heading level0 col4\" >1500</th>\n",
       "      <th id=\"T_d2230_level0_col5\" class=\"col_heading level0 col5\" >2000</th>\n",
       "      <th id=\"T_d2230_level0_col6\" class=\"col_heading level0 col6\" >residence_time</th>\n",
       "    </tr>\n",
       "  </thead>\n",
       "  <tbody>\n",
       "    <tr>\n",
       "      <td id=\"T_d2230_row0_col0\" class=\"data row0 col0\" >bog1</td>\n",
       "      <td id=\"T_d2230_row0_col1\" class=\"data row0 col1\" >1</td>\n",
       "      <td id=\"T_d2230_row0_col2\" class=\"data row0 col2\" >1</td>\n",
       "      <td id=\"T_d2230_row0_col3\" class=\"data row0 col3\" >1</td>\n",
       "      <td id=\"T_d2230_row0_col4\" class=\"data row0 col4\" >1</td>\n",
       "      <td id=\"T_d2230_row0_col5\" class=\"data row0 col5\" >1</td>\n",
       "      <td id=\"T_d2230_row0_col6\" class=\"data row0 col6\" >1.000000</td>\n",
       "    </tr>\n",
       "    <tr>\n",
       "      <td id=\"T_d2230_row1_col0\" class=\"data row1 col0\" >bog2</td>\n",
       "      <td id=\"T_d2230_row1_col1\" class=\"data row1 col1\" >1</td>\n",
       "      <td id=\"T_d2230_row1_col2\" class=\"data row1 col2\" >0</td>\n",
       "      <td id=\"T_d2230_row1_col3\" class=\"data row1 col3\" >1</td>\n",
       "      <td id=\"T_d2230_row1_col4\" class=\"data row1 col4\" >1</td>\n",
       "      <td id=\"T_d2230_row1_col5\" class=\"data row1 col5\" >0</td>\n",
       "      <td id=\"T_d2230_row1_col6\" class=\"data row1 col6\" >0.600000</td>\n",
       "    </tr>\n",
       "    <tr>\n",
       "      <td id=\"T_d2230_row2_col0\" class=\"data row2 col0\" >bog3</td>\n",
       "      <td id=\"T_d2230_row2_col1\" class=\"data row2 col1\" >1</td>\n",
       "      <td id=\"T_d2230_row2_col2\" class=\"data row2 col2\" >1</td>\n",
       "      <td id=\"T_d2230_row2_col3\" class=\"data row2 col3\" >1</td>\n",
       "      <td id=\"T_d2230_row2_col4\" class=\"data row2 col4\" >1</td>\n",
       "      <td id=\"T_d2230_row2_col5\" class=\"data row2 col5\" >1</td>\n",
       "      <td id=\"T_d2230_row2_col6\" class=\"data row2 col6\" >1.000000</td>\n",
       "    </tr>\n",
       "    <tr>\n",
       "      <td id=\"T_d2230_row3_col0\" class=\"data row3 col0\" >bog4</td>\n",
       "      <td id=\"T_d2230_row3_col1\" class=\"data row3 col1\" >1</td>\n",
       "      <td id=\"T_d2230_row3_col2\" class=\"data row3 col2\" >1</td>\n",
       "      <td id=\"T_d2230_row3_col3\" class=\"data row3 col3\" >1</td>\n",
       "      <td id=\"T_d2230_row3_col4\" class=\"data row3 col4\" >1</td>\n",
       "      <td id=\"T_d2230_row3_col5\" class=\"data row3 col5\" >1</td>\n",
       "      <td id=\"T_d2230_row3_col6\" class=\"data row3 col6\" >1.000000</td>\n",
       "    </tr>\n",
       "    <tr>\n",
       "      <td id=\"T_d2230_row4_col0\" class=\"data row4 col0\" >bog5</td>\n",
       "      <td id=\"T_d2230_row4_col1\" class=\"data row4 col1\" >1</td>\n",
       "      <td id=\"T_d2230_row4_col2\" class=\"data row4 col2\" >1</td>\n",
       "      <td id=\"T_d2230_row4_col3\" class=\"data row4 col3\" >1</td>\n",
       "      <td id=\"T_d2230_row4_col4\" class=\"data row4 col4\" >1</td>\n",
       "      <td id=\"T_d2230_row4_col5\" class=\"data row4 col5\" >1</td>\n",
       "      <td id=\"T_d2230_row4_col6\" class=\"data row4 col6\" >1.000000</td>\n",
       "    </tr>\n",
       "    <tr>\n",
       "      <td id=\"T_d2230_row5_col0\" class=\"data row5 col0\" >bog6</td>\n",
       "      <td id=\"T_d2230_row5_col1\" class=\"data row5 col1\" >0</td>\n",
       "      <td id=\"T_d2230_row5_col2\" class=\"data row5 col2\" >0</td>\n",
       "      <td id=\"T_d2230_row5_col3\" class=\"data row5 col3\" >0</td>\n",
       "      <td id=\"T_d2230_row5_col4\" class=\"data row5 col4\" >1</td>\n",
       "      <td id=\"T_d2230_row5_col5\" class=\"data row5 col5\" >0</td>\n",
       "      <td id=\"T_d2230_row5_col6\" class=\"data row5 col6\" >0.200000</td>\n",
       "    </tr>\n",
       "    <tr>\n",
       "      <td id=\"T_d2230_row6_col0\" class=\"data row6 col0\" >bog7</td>\n",
       "      <td id=\"T_d2230_row6_col1\" class=\"data row6 col1\" >1</td>\n",
       "      <td id=\"T_d2230_row6_col2\" class=\"data row6 col2\" >1</td>\n",
       "      <td id=\"T_d2230_row6_col3\" class=\"data row6 col3\" >1</td>\n",
       "      <td id=\"T_d2230_row6_col4\" class=\"data row6 col4\" >1</td>\n",
       "      <td id=\"T_d2230_row6_col5\" class=\"data row6 col5\" >1</td>\n",
       "      <td id=\"T_d2230_row6_col6\" class=\"data row6 col6\" >1.000000</td>\n",
       "    </tr>\n",
       "    <tr>\n",
       "      <td id=\"T_d2230_row7_col0\" class=\"data row7 col0\" >bog8</td>\n",
       "      <td id=\"T_d2230_row7_col1\" class=\"data row7 col1\" >1</td>\n",
       "      <td id=\"T_d2230_row7_col2\" class=\"data row7 col2\" >1</td>\n",
       "      <td id=\"T_d2230_row7_col3\" class=\"data row7 col3\" >1</td>\n",
       "      <td id=\"T_d2230_row7_col4\" class=\"data row7 col4\" >1</td>\n",
       "      <td id=\"T_d2230_row7_col5\" class=\"data row7 col5\" >1</td>\n",
       "      <td id=\"T_d2230_row7_col6\" class=\"data row7 col6\" >1.000000</td>\n",
       "    </tr>\n",
       "    <tr>\n",
       "      <td id=\"T_d2230_row8_col0\" class=\"data row8 col0\" >bog9</td>\n",
       "      <td id=\"T_d2230_row8_col1\" class=\"data row8 col1\" >1</td>\n",
       "      <td id=\"T_d2230_row8_col2\" class=\"data row8 col2\" >1</td>\n",
       "      <td id=\"T_d2230_row8_col3\" class=\"data row8 col3\" >1</td>\n",
       "      <td id=\"T_d2230_row8_col4\" class=\"data row8 col4\" >1</td>\n",
       "      <td id=\"T_d2230_row8_col5\" class=\"data row8 col5\" >1</td>\n",
       "      <td id=\"T_d2230_row8_col6\" class=\"data row8 col6\" >1.000000</td>\n",
       "    </tr>\n",
       "    <tr>\n",
       "      <td id=\"T_d2230_row9_col0\" class=\"data row9 col0\" >bog10</td>\n",
       "      <td id=\"T_d2230_row9_col1\" class=\"data row9 col1\" >1</td>\n",
       "      <td id=\"T_d2230_row9_col2\" class=\"data row9 col2\" >1</td>\n",
       "      <td id=\"T_d2230_row9_col3\" class=\"data row9 col3\" >1</td>\n",
       "      <td id=\"T_d2230_row9_col4\" class=\"data row9 col4\" >1</td>\n",
       "      <td id=\"T_d2230_row9_col5\" class=\"data row9 col5\" >1</td>\n",
       "      <td id=\"T_d2230_row9_col6\" class=\"data row9 col6\" >1.000000</td>\n",
       "    </tr>\n",
       "    <tr>\n",
       "      <td id=\"T_d2230_row10_col0\" class=\"data row10 col0\" >bog11</td>\n",
       "      <td id=\"T_d2230_row10_col1\" class=\"data row10 col1\" >1</td>\n",
       "      <td id=\"T_d2230_row10_col2\" class=\"data row10 col2\" >1</td>\n",
       "      <td id=\"T_d2230_row10_col3\" class=\"data row10 col3\" >1</td>\n",
       "      <td id=\"T_d2230_row10_col4\" class=\"data row10 col4\" >1</td>\n",
       "      <td id=\"T_d2230_row10_col5\" class=\"data row10 col5\" >1</td>\n",
       "      <td id=\"T_d2230_row10_col6\" class=\"data row10 col6\" >1.000000</td>\n",
       "    </tr>\n",
       "    <tr>\n",
       "      <td id=\"T_d2230_row11_col0\" class=\"data row11 col0\" >bog12</td>\n",
       "      <td id=\"T_d2230_row11_col1\" class=\"data row11 col1\" >0</td>\n",
       "      <td id=\"T_d2230_row11_col2\" class=\"data row11 col2\" >0</td>\n",
       "      <td id=\"T_d2230_row11_col3\" class=\"data row11 col3\" >0</td>\n",
       "      <td id=\"T_d2230_row11_col4\" class=\"data row11 col4\" >0</td>\n",
       "      <td id=\"T_d2230_row11_col5\" class=\"data row11 col5\" >1</td>\n",
       "      <td id=\"T_d2230_row11_col6\" class=\"data row11 col6\" >0.200000</td>\n",
       "    </tr>\n",
       "    <tr>\n",
       "      <td id=\"T_d2230_row12_col0\" class=\"data row12 col0\" >bog13</td>\n",
       "      <td id=\"T_d2230_row12_col1\" class=\"data row12 col1\" >1</td>\n",
       "      <td id=\"T_d2230_row12_col2\" class=\"data row12 col2\" >1</td>\n",
       "      <td id=\"T_d2230_row12_col3\" class=\"data row12 col3\" >1</td>\n",
       "      <td id=\"T_d2230_row12_col4\" class=\"data row12 col4\" >1</td>\n",
       "      <td id=\"T_d2230_row12_col5\" class=\"data row12 col5\" >1</td>\n",
       "      <td id=\"T_d2230_row12_col6\" class=\"data row12 col6\" >1.000000</td>\n",
       "    </tr>\n",
       "    <tr>\n",
       "      <td id=\"T_d2230_row13_col0\" class=\"data row13 col0\" >bog14</td>\n",
       "      <td id=\"T_d2230_row13_col1\" class=\"data row13 col1\" >1</td>\n",
       "      <td id=\"T_d2230_row13_col2\" class=\"data row13 col2\" >1</td>\n",
       "      <td id=\"T_d2230_row13_col3\" class=\"data row13 col3\" >1</td>\n",
       "      <td id=\"T_d2230_row13_col4\" class=\"data row13 col4\" >1</td>\n",
       "      <td id=\"T_d2230_row13_col5\" class=\"data row13 col5\" >1</td>\n",
       "      <td id=\"T_d2230_row13_col6\" class=\"data row13 col6\" >1.000000</td>\n",
       "    </tr>\n",
       "    <tr>\n",
       "      <td id=\"T_d2230_row14_col0\" class=\"data row14 col0\" >bog15</td>\n",
       "      <td id=\"T_d2230_row14_col1\" class=\"data row14 col1\" >1</td>\n",
       "      <td id=\"T_d2230_row14_col2\" class=\"data row14 col2\" >1</td>\n",
       "      <td id=\"T_d2230_row14_col3\" class=\"data row14 col3\" >1</td>\n",
       "      <td id=\"T_d2230_row14_col4\" class=\"data row14 col4\" >1</td>\n",
       "      <td id=\"T_d2230_row14_col5\" class=\"data row14 col5\" >1</td>\n",
       "      <td id=\"T_d2230_row14_col6\" class=\"data row14 col6\" >1.000000</td>\n",
       "    </tr>\n",
       "    <tr>\n",
       "      <td id=\"T_d2230_row15_col0\" class=\"data row15 col0\" >bog16</td>\n",
       "      <td id=\"T_d2230_row15_col1\" class=\"data row15 col1\" >1</td>\n",
       "      <td id=\"T_d2230_row15_col2\" class=\"data row15 col2\" >1</td>\n",
       "      <td id=\"T_d2230_row15_col3\" class=\"data row15 col3\" >1</td>\n",
       "      <td id=\"T_d2230_row15_col4\" class=\"data row15 col4\" >1</td>\n",
       "      <td id=\"T_d2230_row15_col5\" class=\"data row15 col5\" >1</td>\n",
       "      <td id=\"T_d2230_row15_col6\" class=\"data row15 col6\" >1.000000</td>\n",
       "    </tr>\n",
       "    <tr>\n",
       "      <td id=\"T_d2230_row16_col0\" class=\"data row16 col0\" >bog17</td>\n",
       "      <td id=\"T_d2230_row16_col1\" class=\"data row16 col1\" >0</td>\n",
       "      <td id=\"T_d2230_row16_col2\" class=\"data row16 col2\" >0</td>\n",
       "      <td id=\"T_d2230_row16_col3\" class=\"data row16 col3\" >1</td>\n",
       "      <td id=\"T_d2230_row16_col4\" class=\"data row16 col4\" >0</td>\n",
       "      <td id=\"T_d2230_row16_col5\" class=\"data row16 col5\" >1</td>\n",
       "      <td id=\"T_d2230_row16_col6\" class=\"data row16 col6\" >0.400000</td>\n",
       "    </tr>\n",
       "    <tr>\n",
       "      <td id=\"T_d2230_row17_col0\" class=\"data row17 col0\" >bog18</td>\n",
       "      <td id=\"T_d2230_row17_col1\" class=\"data row17 col1\" >1</td>\n",
       "      <td id=\"T_d2230_row17_col2\" class=\"data row17 col2\" >1</td>\n",
       "      <td id=\"T_d2230_row17_col3\" class=\"data row17 col3\" >1</td>\n",
       "      <td id=\"T_d2230_row17_col4\" class=\"data row17 col4\" >1</td>\n",
       "      <td id=\"T_d2230_row17_col5\" class=\"data row17 col5\" >1</td>\n",
       "      <td id=\"T_d2230_row17_col6\" class=\"data row17 col6\" >1.000000</td>\n",
       "    </tr>\n",
       "    <tr>\n",
       "      <td id=\"T_d2230_row18_col0\" class=\"data row18 col0\" >bog19</td>\n",
       "      <td id=\"T_d2230_row18_col1\" class=\"data row18 col1\" >1</td>\n",
       "      <td id=\"T_d2230_row18_col2\" class=\"data row18 col2\" >1</td>\n",
       "      <td id=\"T_d2230_row18_col3\" class=\"data row18 col3\" >1</td>\n",
       "      <td id=\"T_d2230_row18_col4\" class=\"data row18 col4\" >1</td>\n",
       "      <td id=\"T_d2230_row18_col5\" class=\"data row18 col5\" >1</td>\n",
       "      <td id=\"T_d2230_row18_col6\" class=\"data row18 col6\" >1.000000</td>\n",
       "    </tr>\n",
       "    <tr>\n",
       "      <td id=\"T_d2230_row19_col0\" class=\"data row19 col0\" >bog20</td>\n",
       "      <td id=\"T_d2230_row19_col1\" class=\"data row19 col1\" >1</td>\n",
       "      <td id=\"T_d2230_row19_col2\" class=\"data row19 col2\" >1</td>\n",
       "      <td id=\"T_d2230_row19_col3\" class=\"data row19 col3\" >1</td>\n",
       "      <td id=\"T_d2230_row19_col4\" class=\"data row19 col4\" >1</td>\n",
       "      <td id=\"T_d2230_row19_col5\" class=\"data row19 col5\" >1</td>\n",
       "      <td id=\"T_d2230_row19_col6\" class=\"data row19 col6\" >1.000000</td>\n",
       "    </tr>\n",
       "    <tr>\n",
       "      <td id=\"T_d2230_row20_col0\" class=\"data row20 col0\" >bog21</td>\n",
       "      <td id=\"T_d2230_row20_col1\" class=\"data row20 col1\" >1</td>\n",
       "      <td id=\"T_d2230_row20_col2\" class=\"data row20 col2\" >1</td>\n",
       "      <td id=\"T_d2230_row20_col3\" class=\"data row20 col3\" >1</td>\n",
       "      <td id=\"T_d2230_row20_col4\" class=\"data row20 col4\" >1</td>\n",
       "      <td id=\"T_d2230_row20_col5\" class=\"data row20 col5\" >1</td>\n",
       "      <td id=\"T_d2230_row20_col6\" class=\"data row20 col6\" >1.000000</td>\n",
       "    </tr>\n",
       "    <tr>\n",
       "      <td id=\"T_d2230_row21_col0\" class=\"data row21 col0\" >bog22</td>\n",
       "      <td id=\"T_d2230_row21_col1\" class=\"data row21 col1\" >1</td>\n",
       "      <td id=\"T_d2230_row21_col2\" class=\"data row21 col2\" >1</td>\n",
       "      <td id=\"T_d2230_row21_col3\" class=\"data row21 col3\" >1</td>\n",
       "      <td id=\"T_d2230_row21_col4\" class=\"data row21 col4\" >1</td>\n",
       "      <td id=\"T_d2230_row21_col5\" class=\"data row21 col5\" >1</td>\n",
       "      <td id=\"T_d2230_row21_col6\" class=\"data row21 col6\" >1.000000</td>\n",
       "    </tr>\n",
       "    <tr>\n",
       "      <td id=\"T_d2230_row22_col0\" class=\"data row22 col0\" >bog23</td>\n",
       "      <td id=\"T_d2230_row22_col1\" class=\"data row22 col1\" >1</td>\n",
       "      <td id=\"T_d2230_row22_col2\" class=\"data row22 col2\" >1</td>\n",
       "      <td id=\"T_d2230_row22_col3\" class=\"data row22 col3\" >1</td>\n",
       "      <td id=\"T_d2230_row22_col4\" class=\"data row22 col4\" >1</td>\n",
       "      <td id=\"T_d2230_row22_col5\" class=\"data row22 col5\" >1</td>\n",
       "      <td id=\"T_d2230_row22_col6\" class=\"data row22 col6\" >1.000000</td>\n",
       "    </tr>\n",
       "    <tr>\n",
       "      <td id=\"T_d2230_row23_col0\" class=\"data row23 col0\" >bog24</td>\n",
       "      <td id=\"T_d2230_row23_col1\" class=\"data row23 col1\" >1</td>\n",
       "      <td id=\"T_d2230_row23_col2\" class=\"data row23 col2\" >1</td>\n",
       "      <td id=\"T_d2230_row23_col3\" class=\"data row23 col3\" >1</td>\n",
       "      <td id=\"T_d2230_row23_col4\" class=\"data row23 col4\" >1</td>\n",
       "      <td id=\"T_d2230_row23_col5\" class=\"data row23 col5\" >1</td>\n",
       "      <td id=\"T_d2230_row23_col6\" class=\"data row23 col6\" >1.000000</td>\n",
       "    </tr>\n",
       "    <tr>\n",
       "      <td id=\"T_d2230_row24_col0\" class=\"data row24 col0\" >bog25</td>\n",
       "      <td id=\"T_d2230_row24_col1\" class=\"data row24 col1\" >1</td>\n",
       "      <td id=\"T_d2230_row24_col2\" class=\"data row24 col2\" >1</td>\n",
       "      <td id=\"T_d2230_row24_col3\" class=\"data row24 col3\" >1</td>\n",
       "      <td id=\"T_d2230_row24_col4\" class=\"data row24 col4\" >1</td>\n",
       "      <td id=\"T_d2230_row24_col5\" class=\"data row24 col5\" >1</td>\n",
       "      <td id=\"T_d2230_row24_col6\" class=\"data row24 col6\" >1.000000</td>\n",
       "    </tr>\n",
       "    <tr>\n",
       "      <td id=\"T_d2230_row25_col0\" class=\"data row25 col0\" >bog26</td>\n",
       "      <td id=\"T_d2230_row25_col1\" class=\"data row25 col1\" >1</td>\n",
       "      <td id=\"T_d2230_row25_col2\" class=\"data row25 col2\" >1</td>\n",
       "      <td id=\"T_d2230_row25_col3\" class=\"data row25 col3\" >1</td>\n",
       "      <td id=\"T_d2230_row25_col4\" class=\"data row25 col4\" >1</td>\n",
       "      <td id=\"T_d2230_row25_col5\" class=\"data row25 col5\" >1</td>\n",
       "      <td id=\"T_d2230_row25_col6\" class=\"data row25 col6\" >1.000000</td>\n",
       "    </tr>\n",
       "    <tr>\n",
       "      <td id=\"T_d2230_row26_col0\" class=\"data row26 col0\" >bog27</td>\n",
       "      <td id=\"T_d2230_row26_col1\" class=\"data row26 col1\" >1</td>\n",
       "      <td id=\"T_d2230_row26_col2\" class=\"data row26 col2\" >1</td>\n",
       "      <td id=\"T_d2230_row26_col3\" class=\"data row26 col3\" >1</td>\n",
       "      <td id=\"T_d2230_row26_col4\" class=\"data row26 col4\" >1</td>\n",
       "      <td id=\"T_d2230_row26_col5\" class=\"data row26 col5\" >1</td>\n",
       "      <td id=\"T_d2230_row26_col6\" class=\"data row26 col6\" >1.000000</td>\n",
       "    </tr>\n",
       "    <tr>\n",
       "      <td id=\"T_d2230_row27_col0\" class=\"data row27 col0\" >bog28</td>\n",
       "      <td id=\"T_d2230_row27_col1\" class=\"data row27 col1\" >1</td>\n",
       "      <td id=\"T_d2230_row27_col2\" class=\"data row27 col2\" >1</td>\n",
       "      <td id=\"T_d2230_row27_col3\" class=\"data row27 col3\" >1</td>\n",
       "      <td id=\"T_d2230_row27_col4\" class=\"data row27 col4\" >1</td>\n",
       "      <td id=\"T_d2230_row27_col5\" class=\"data row27 col5\" >1</td>\n",
       "      <td id=\"T_d2230_row27_col6\" class=\"data row27 col6\" >1.000000</td>\n",
       "    </tr>\n",
       "    <tr>\n",
       "      <td id=\"T_d2230_row28_col0\" class=\"data row28 col0\" >bog29</td>\n",
       "      <td id=\"T_d2230_row28_col1\" class=\"data row28 col1\" >0</td>\n",
       "      <td id=\"T_d2230_row28_col2\" class=\"data row28 col2\" >1</td>\n",
       "      <td id=\"T_d2230_row28_col3\" class=\"data row28 col3\" >1</td>\n",
       "      <td id=\"T_d2230_row28_col4\" class=\"data row28 col4\" >0</td>\n",
       "      <td id=\"T_d2230_row28_col5\" class=\"data row28 col5\" >0</td>\n",
       "      <td id=\"T_d2230_row28_col6\" class=\"data row28 col6\" >0.400000</td>\n",
       "    </tr>\n",
       "    <tr>\n",
       "      <td id=\"T_d2230_row29_col0\" class=\"data row29 col0\" >bog30</td>\n",
       "      <td id=\"T_d2230_row29_col1\" class=\"data row29 col1\" >0</td>\n",
       "      <td id=\"T_d2230_row29_col2\" class=\"data row29 col2\" >0</td>\n",
       "      <td id=\"T_d2230_row29_col3\" class=\"data row29 col3\" >1</td>\n",
       "      <td id=\"T_d2230_row29_col4\" class=\"data row29 col4\" >1</td>\n",
       "      <td id=\"T_d2230_row29_col5\" class=\"data row29 col5\" >1</td>\n",
       "      <td id=\"T_d2230_row29_col6\" class=\"data row29 col6\" >0.600000</td>\n",
       "    </tr>\n",
       "    <tr>\n",
       "      <td id=\"T_d2230_row30_col0\" class=\"data row30 col0\" >bog31</td>\n",
       "      <td id=\"T_d2230_row30_col1\" class=\"data row30 col1\" >1</td>\n",
       "      <td id=\"T_d2230_row30_col2\" class=\"data row30 col2\" >1</td>\n",
       "      <td id=\"T_d2230_row30_col3\" class=\"data row30 col3\" >1</td>\n",
       "      <td id=\"T_d2230_row30_col4\" class=\"data row30 col4\" >1</td>\n",
       "      <td id=\"T_d2230_row30_col5\" class=\"data row30 col5\" >1</td>\n",
       "      <td id=\"T_d2230_row30_col6\" class=\"data row30 col6\" >1.000000</td>\n",
       "    </tr>\n",
       "    <tr>\n",
       "      <td id=\"T_d2230_row31_col0\" class=\"data row31 col0\" >bog32</td>\n",
       "      <td id=\"T_d2230_row31_col1\" class=\"data row31 col1\" >1</td>\n",
       "      <td id=\"T_d2230_row31_col2\" class=\"data row31 col2\" >1</td>\n",
       "      <td id=\"T_d2230_row31_col3\" class=\"data row31 col3\" >1</td>\n",
       "      <td id=\"T_d2230_row31_col4\" class=\"data row31 col4\" >1</td>\n",
       "      <td id=\"T_d2230_row31_col5\" class=\"data row31 col5\" >1</td>\n",
       "      <td id=\"T_d2230_row31_col6\" class=\"data row31 col6\" >1.000000</td>\n",
       "    </tr>\n",
       "    <tr>\n",
       "      <td id=\"T_d2230_row32_col0\" class=\"data row32 col0\" >bog33</td>\n",
       "      <td id=\"T_d2230_row32_col1\" class=\"data row32 col1\" >1</td>\n",
       "      <td id=\"T_d2230_row32_col2\" class=\"data row32 col2\" >1</td>\n",
       "      <td id=\"T_d2230_row32_col3\" class=\"data row32 col3\" >1</td>\n",
       "      <td id=\"T_d2230_row32_col4\" class=\"data row32 col4\" >1</td>\n",
       "      <td id=\"T_d2230_row32_col5\" class=\"data row32 col5\" >1</td>\n",
       "      <td id=\"T_d2230_row32_col6\" class=\"data row32 col6\" >1.000000</td>\n",
       "    </tr>\n",
       "    <tr>\n",
       "      <td id=\"T_d2230_row33_col0\" class=\"data row33 col0\" >bog34</td>\n",
       "      <td id=\"T_d2230_row33_col1\" class=\"data row33 col1\" >1</td>\n",
       "      <td id=\"T_d2230_row33_col2\" class=\"data row33 col2\" >1</td>\n",
       "      <td id=\"T_d2230_row33_col3\" class=\"data row33 col3\" >1</td>\n",
       "      <td id=\"T_d2230_row33_col4\" class=\"data row33 col4\" >1</td>\n",
       "      <td id=\"T_d2230_row33_col5\" class=\"data row33 col5\" >1</td>\n",
       "      <td id=\"T_d2230_row33_col6\" class=\"data row33 col6\" >1.000000</td>\n",
       "    </tr>\n",
       "    <tr>\n",
       "      <td id=\"T_d2230_row34_col0\" class=\"data row34 col0\" >bog35</td>\n",
       "      <td id=\"T_d2230_row34_col1\" class=\"data row34 col1\" >1</td>\n",
       "      <td id=\"T_d2230_row34_col2\" class=\"data row34 col2\" >1</td>\n",
       "      <td id=\"T_d2230_row34_col3\" class=\"data row34 col3\" >1</td>\n",
       "      <td id=\"T_d2230_row34_col4\" class=\"data row34 col4\" >1</td>\n",
       "      <td id=\"T_d2230_row34_col5\" class=\"data row34 col5\" >1</td>\n",
       "      <td id=\"T_d2230_row34_col6\" class=\"data row34 col6\" >1.000000</td>\n",
       "    </tr>\n",
       "    <tr>\n",
       "      <td id=\"T_d2230_row35_col0\" class=\"data row35 col0\" >bog36</td>\n",
       "      <td id=\"T_d2230_row35_col1\" class=\"data row35 col1\" >1</td>\n",
       "      <td id=\"T_d2230_row35_col2\" class=\"data row35 col2\" >1</td>\n",
       "      <td id=\"T_d2230_row35_col3\" class=\"data row35 col3\" >1</td>\n",
       "      <td id=\"T_d2230_row35_col4\" class=\"data row35 col4\" >1</td>\n",
       "      <td id=\"T_d2230_row35_col5\" class=\"data row35 col5\" >1</td>\n",
       "      <td id=\"T_d2230_row35_col6\" class=\"data row35 col6\" >1.000000</td>\n",
       "    </tr>\n",
       "    <tr>\n",
       "      <td id=\"T_d2230_row36_col0\" class=\"data row36 col0\" >bog37</td>\n",
       "      <td id=\"T_d2230_row36_col1\" class=\"data row36 col1\" >1</td>\n",
       "      <td id=\"T_d2230_row36_col2\" class=\"data row36 col2\" >1</td>\n",
       "      <td id=\"T_d2230_row36_col3\" class=\"data row36 col3\" >1</td>\n",
       "      <td id=\"T_d2230_row36_col4\" class=\"data row36 col4\" >1</td>\n",
       "      <td id=\"T_d2230_row36_col5\" class=\"data row36 col5\" >1</td>\n",
       "      <td id=\"T_d2230_row36_col6\" class=\"data row36 col6\" >1.000000</td>\n",
       "    </tr>\n",
       "    <tr>\n",
       "      <td id=\"T_d2230_row37_col0\" class=\"data row37 col0\" >bog38</td>\n",
       "      <td id=\"T_d2230_row37_col1\" class=\"data row37 col1\" >0</td>\n",
       "      <td id=\"T_d2230_row37_col2\" class=\"data row37 col2\" >0</td>\n",
       "      <td id=\"T_d2230_row37_col3\" class=\"data row37 col3\" >0</td>\n",
       "      <td id=\"T_d2230_row37_col4\" class=\"data row37 col4\" >1</td>\n",
       "      <td id=\"T_d2230_row37_col5\" class=\"data row37 col5\" >1</td>\n",
       "      <td id=\"T_d2230_row37_col6\" class=\"data row37 col6\" >0.400000</td>\n",
       "    </tr>\n",
       "    <tr>\n",
       "      <td id=\"T_d2230_row38_col0\" class=\"data row38 col0\" >bog39</td>\n",
       "      <td id=\"T_d2230_row38_col1\" class=\"data row38 col1\" >1</td>\n",
       "      <td id=\"T_d2230_row38_col2\" class=\"data row38 col2\" >1</td>\n",
       "      <td id=\"T_d2230_row38_col3\" class=\"data row38 col3\" >1</td>\n",
       "      <td id=\"T_d2230_row38_col4\" class=\"data row38 col4\" >1</td>\n",
       "      <td id=\"T_d2230_row38_col5\" class=\"data row38 col5\" >1</td>\n",
       "      <td id=\"T_d2230_row38_col6\" class=\"data row38 col6\" >1.000000</td>\n",
       "    </tr>\n",
       "    <tr>\n",
       "      <td id=\"T_d2230_row39_col0\" class=\"data row39 col0\" >bog40</td>\n",
       "      <td id=\"T_d2230_row39_col1\" class=\"data row39 col1\" >1</td>\n",
       "      <td id=\"T_d2230_row39_col2\" class=\"data row39 col2\" >1</td>\n",
       "      <td id=\"T_d2230_row39_col3\" class=\"data row39 col3\" >1</td>\n",
       "      <td id=\"T_d2230_row39_col4\" class=\"data row39 col4\" >1</td>\n",
       "      <td id=\"T_d2230_row39_col5\" class=\"data row39 col5\" >1</td>\n",
       "      <td id=\"T_d2230_row39_col6\" class=\"data row39 col6\" >1.000000</td>\n",
       "    </tr>\n",
       "    <tr>\n",
       "      <td id=\"T_d2230_row40_col0\" class=\"data row40 col0\" >bog41</td>\n",
       "      <td id=\"T_d2230_row40_col1\" class=\"data row40 col1\" >1</td>\n",
       "      <td id=\"T_d2230_row40_col2\" class=\"data row40 col2\" >1</td>\n",
       "      <td id=\"T_d2230_row40_col3\" class=\"data row40 col3\" >1</td>\n",
       "      <td id=\"T_d2230_row40_col4\" class=\"data row40 col4\" >1</td>\n",
       "      <td id=\"T_d2230_row40_col5\" class=\"data row40 col5\" >1</td>\n",
       "      <td id=\"T_d2230_row40_col6\" class=\"data row40 col6\" >1.000000</td>\n",
       "    </tr>\n",
       "    <tr>\n",
       "      <td id=\"T_d2230_row41_col0\" class=\"data row41 col0\" >bog42</td>\n",
       "      <td id=\"T_d2230_row41_col1\" class=\"data row41 col1\" >1</td>\n",
       "      <td id=\"T_d2230_row41_col2\" class=\"data row41 col2\" >1</td>\n",
       "      <td id=\"T_d2230_row41_col3\" class=\"data row41 col3\" >1</td>\n",
       "      <td id=\"T_d2230_row41_col4\" class=\"data row41 col4\" >1</td>\n",
       "      <td id=\"T_d2230_row41_col5\" class=\"data row41 col5\" >1</td>\n",
       "      <td id=\"T_d2230_row41_col6\" class=\"data row41 col6\" >1.000000</td>\n",
       "    </tr>\n",
       "    <tr>\n",
       "      <td id=\"T_d2230_row42_col0\" class=\"data row42 col0\" >bog43</td>\n",
       "      <td id=\"T_d2230_row42_col1\" class=\"data row42 col1\" >1</td>\n",
       "      <td id=\"T_d2230_row42_col2\" class=\"data row42 col2\" >1</td>\n",
       "      <td id=\"T_d2230_row42_col3\" class=\"data row42 col3\" >1</td>\n",
       "      <td id=\"T_d2230_row42_col4\" class=\"data row42 col4\" >1</td>\n",
       "      <td id=\"T_d2230_row42_col5\" class=\"data row42 col5\" >1</td>\n",
       "      <td id=\"T_d2230_row42_col6\" class=\"data row42 col6\" >1.000000</td>\n",
       "    </tr>\n",
       "    <tr>\n",
       "      <td id=\"T_d2230_row43_col0\" class=\"data row43 col0\" >bog44</td>\n",
       "      <td id=\"T_d2230_row43_col1\" class=\"data row43 col1\" >1</td>\n",
       "      <td id=\"T_d2230_row43_col2\" class=\"data row43 col2\" >0</td>\n",
       "      <td id=\"T_d2230_row43_col3\" class=\"data row43 col3\" >1</td>\n",
       "      <td id=\"T_d2230_row43_col4\" class=\"data row43 col4\" >1</td>\n",
       "      <td id=\"T_d2230_row43_col5\" class=\"data row43 col5\" >1</td>\n",
       "      <td id=\"T_d2230_row43_col6\" class=\"data row43 col6\" >0.800000</td>\n",
       "    </tr>\n",
       "    <tr>\n",
       "      <td id=\"T_d2230_row44_col0\" class=\"data row44 col0\" >bog45</td>\n",
       "      <td id=\"T_d2230_row44_col1\" class=\"data row44 col1\" >1</td>\n",
       "      <td id=\"T_d2230_row44_col2\" class=\"data row44 col2\" >0</td>\n",
       "      <td id=\"T_d2230_row44_col3\" class=\"data row44 col3\" >1</td>\n",
       "      <td id=\"T_d2230_row44_col4\" class=\"data row44 col4\" >1</td>\n",
       "      <td id=\"T_d2230_row44_col5\" class=\"data row44 col5\" >1</td>\n",
       "      <td id=\"T_d2230_row44_col6\" class=\"data row44 col6\" >0.800000</td>\n",
       "    </tr>\n",
       "    <tr>\n",
       "      <td id=\"T_d2230_row45_col0\" class=\"data row45 col0\" >bog46</td>\n",
       "      <td id=\"T_d2230_row45_col1\" class=\"data row45 col1\" >1</td>\n",
       "      <td id=\"T_d2230_row45_col2\" class=\"data row45 col2\" >1</td>\n",
       "      <td id=\"T_d2230_row45_col3\" class=\"data row45 col3\" >1</td>\n",
       "      <td id=\"T_d2230_row45_col4\" class=\"data row45 col4\" >1</td>\n",
       "      <td id=\"T_d2230_row45_col5\" class=\"data row45 col5\" >1</td>\n",
       "      <td id=\"T_d2230_row45_col6\" class=\"data row45 col6\" >1.000000</td>\n",
       "    </tr>\n",
       "    <tr>\n",
       "      <td id=\"T_d2230_row46_col0\" class=\"data row46 col0\" >bog47</td>\n",
       "      <td id=\"T_d2230_row46_col1\" class=\"data row46 col1\" >1</td>\n",
       "      <td id=\"T_d2230_row46_col2\" class=\"data row46 col2\" >1</td>\n",
       "      <td id=\"T_d2230_row46_col3\" class=\"data row46 col3\" >1</td>\n",
       "      <td id=\"T_d2230_row46_col4\" class=\"data row46 col4\" >1</td>\n",
       "      <td id=\"T_d2230_row46_col5\" class=\"data row46 col5\" >1</td>\n",
       "      <td id=\"T_d2230_row46_col6\" class=\"data row46 col6\" >1.000000</td>\n",
       "    </tr>\n",
       "    <tr>\n",
       "      <td id=\"T_d2230_row47_col0\" class=\"data row47 col0\" >bog48</td>\n",
       "      <td id=\"T_d2230_row47_col1\" class=\"data row47 col1\" >1</td>\n",
       "      <td id=\"T_d2230_row47_col2\" class=\"data row47 col2\" >1</td>\n",
       "      <td id=\"T_d2230_row47_col3\" class=\"data row47 col3\" >1</td>\n",
       "      <td id=\"T_d2230_row47_col4\" class=\"data row47 col4\" >1</td>\n",
       "      <td id=\"T_d2230_row47_col5\" class=\"data row47 col5\" >1</td>\n",
       "      <td id=\"T_d2230_row47_col6\" class=\"data row47 col6\" >1.000000</td>\n",
       "    </tr>\n",
       "    <tr>\n",
       "      <td id=\"T_d2230_row48_col0\" class=\"data row48 col0\" >bog49</td>\n",
       "      <td id=\"T_d2230_row48_col1\" class=\"data row48 col1\" >1</td>\n",
       "      <td id=\"T_d2230_row48_col2\" class=\"data row48 col2\" >1</td>\n",
       "      <td id=\"T_d2230_row48_col3\" class=\"data row48 col3\" >1</td>\n",
       "      <td id=\"T_d2230_row48_col4\" class=\"data row48 col4\" >1</td>\n",
       "      <td id=\"T_d2230_row48_col5\" class=\"data row48 col5\" >1</td>\n",
       "      <td id=\"T_d2230_row48_col6\" class=\"data row48 col6\" >1.000000</td>\n",
       "    </tr>\n",
       "    <tr>\n",
       "      <td id=\"T_d2230_row49_col0\" class=\"data row49 col0\" >bog50</td>\n",
       "      <td id=\"T_d2230_row49_col1\" class=\"data row49 col1\" >1</td>\n",
       "      <td id=\"T_d2230_row49_col2\" class=\"data row49 col2\" >1</td>\n",
       "      <td id=\"T_d2230_row49_col3\" class=\"data row49 col3\" >1</td>\n",
       "      <td id=\"T_d2230_row49_col4\" class=\"data row49 col4\" >1</td>\n",
       "      <td id=\"T_d2230_row49_col5\" class=\"data row49 col5\" >1</td>\n",
       "      <td id=\"T_d2230_row49_col6\" class=\"data row49 col6\" >1.000000</td>\n",
       "    </tr>\n",
       "    <tr>\n",
       "      <td id=\"T_d2230_row50_col0\" class=\"data row50 col0\" >bog51</td>\n",
       "      <td id=\"T_d2230_row50_col1\" class=\"data row50 col1\" >1</td>\n",
       "      <td id=\"T_d2230_row50_col2\" class=\"data row50 col2\" >1</td>\n",
       "      <td id=\"T_d2230_row50_col3\" class=\"data row50 col3\" >1</td>\n",
       "      <td id=\"T_d2230_row50_col4\" class=\"data row50 col4\" >1</td>\n",
       "      <td id=\"T_d2230_row50_col5\" class=\"data row50 col5\" >1</td>\n",
       "      <td id=\"T_d2230_row50_col6\" class=\"data row50 col6\" >1.000000</td>\n",
       "    </tr>\n",
       "    <tr>\n",
       "      <td id=\"T_d2230_row51_col0\" class=\"data row51 col0\" >bog52</td>\n",
       "      <td id=\"T_d2230_row51_col1\" class=\"data row51 col1\" >1</td>\n",
       "      <td id=\"T_d2230_row51_col2\" class=\"data row51 col2\" >1</td>\n",
       "      <td id=\"T_d2230_row51_col3\" class=\"data row51 col3\" >1</td>\n",
       "      <td id=\"T_d2230_row51_col4\" class=\"data row51 col4\" >1</td>\n",
       "      <td id=\"T_d2230_row51_col5\" class=\"data row51 col5\" >1</td>\n",
       "      <td id=\"T_d2230_row51_col6\" class=\"data row51 col6\" >1.000000</td>\n",
       "    </tr>\n",
       "    <tr>\n",
       "      <td id=\"T_d2230_row52_col0\" class=\"data row52 col0\" >bog53</td>\n",
       "      <td id=\"T_d2230_row52_col1\" class=\"data row52 col1\" >1</td>\n",
       "      <td id=\"T_d2230_row52_col2\" class=\"data row52 col2\" >1</td>\n",
       "      <td id=\"T_d2230_row52_col3\" class=\"data row52 col3\" >1</td>\n",
       "      <td id=\"T_d2230_row52_col4\" class=\"data row52 col4\" >1</td>\n",
       "      <td id=\"T_d2230_row52_col5\" class=\"data row52 col5\" >1</td>\n",
       "      <td id=\"T_d2230_row52_col6\" class=\"data row52 col6\" >1.000000</td>\n",
       "    </tr>\n",
       "    <tr>\n",
       "      <td id=\"T_d2230_row53_col0\" class=\"data row53 col0\" >bog54</td>\n",
       "      <td id=\"T_d2230_row53_col1\" class=\"data row53 col1\" >1</td>\n",
       "      <td id=\"T_d2230_row53_col2\" class=\"data row53 col2\" >1</td>\n",
       "      <td id=\"T_d2230_row53_col3\" class=\"data row53 col3\" >0</td>\n",
       "      <td id=\"T_d2230_row53_col4\" class=\"data row53 col4\" >1</td>\n",
       "      <td id=\"T_d2230_row53_col5\" class=\"data row53 col5\" >1</td>\n",
       "      <td id=\"T_d2230_row53_col6\" class=\"data row53 col6\" >0.800000</td>\n",
       "    </tr>\n",
       "    <tr>\n",
       "      <td id=\"T_d2230_row54_col0\" class=\"data row54 col0\" >bog55</td>\n",
       "      <td id=\"T_d2230_row54_col1\" class=\"data row54 col1\" >1</td>\n",
       "      <td id=\"T_d2230_row54_col2\" class=\"data row54 col2\" >1</td>\n",
       "      <td id=\"T_d2230_row54_col3\" class=\"data row54 col3\" >1</td>\n",
       "      <td id=\"T_d2230_row54_col4\" class=\"data row54 col4\" >1</td>\n",
       "      <td id=\"T_d2230_row54_col5\" class=\"data row54 col5\" >1</td>\n",
       "      <td id=\"T_d2230_row54_col6\" class=\"data row54 col6\" >1.000000</td>\n",
       "    </tr>\n",
       "    <tr>\n",
       "      <td id=\"T_d2230_row55_col0\" class=\"data row55 col0\" >bog56</td>\n",
       "      <td id=\"T_d2230_row55_col1\" class=\"data row55 col1\" >1</td>\n",
       "      <td id=\"T_d2230_row55_col2\" class=\"data row55 col2\" >1</td>\n",
       "      <td id=\"T_d2230_row55_col3\" class=\"data row55 col3\" >1</td>\n",
       "      <td id=\"T_d2230_row55_col4\" class=\"data row55 col4\" >1</td>\n",
       "      <td id=\"T_d2230_row55_col5\" class=\"data row55 col5\" >1</td>\n",
       "      <td id=\"T_d2230_row55_col6\" class=\"data row55 col6\" >1.000000</td>\n",
       "    </tr>\n",
       "    <tr>\n",
       "      <td id=\"T_d2230_row56_col0\" class=\"data row56 col0\" >bog57</td>\n",
       "      <td id=\"T_d2230_row56_col1\" class=\"data row56 col1\" >0</td>\n",
       "      <td id=\"T_d2230_row56_col2\" class=\"data row56 col2\" >0</td>\n",
       "      <td id=\"T_d2230_row56_col3\" class=\"data row56 col3\" >0</td>\n",
       "      <td id=\"T_d2230_row56_col4\" class=\"data row56 col4\" >0</td>\n",
       "      <td id=\"T_d2230_row56_col5\" class=\"data row56 col5\" >0</td>\n",
       "      <td id=\"T_d2230_row56_col6\" class=\"data row56 col6\" >0.000000</td>\n",
       "    </tr>\n",
       "    <tr>\n",
       "      <td id=\"T_d2230_row57_col0\" class=\"data row57 col0\" >bog58</td>\n",
       "      <td id=\"T_d2230_row57_col1\" class=\"data row57 col1\" >1</td>\n",
       "      <td id=\"T_d2230_row57_col2\" class=\"data row57 col2\" >1</td>\n",
       "      <td id=\"T_d2230_row57_col3\" class=\"data row57 col3\" >1</td>\n",
       "      <td id=\"T_d2230_row57_col4\" class=\"data row57 col4\" >1</td>\n",
       "      <td id=\"T_d2230_row57_col5\" class=\"data row57 col5\" >1</td>\n",
       "      <td id=\"T_d2230_row57_col6\" class=\"data row57 col6\" >1.000000</td>\n",
       "    </tr>\n",
       "    <tr>\n",
       "      <td id=\"T_d2230_row58_col0\" class=\"data row58 col0\" >bog59</td>\n",
       "      <td id=\"T_d2230_row58_col1\" class=\"data row58 col1\" >1</td>\n",
       "      <td id=\"T_d2230_row58_col2\" class=\"data row58 col2\" >1</td>\n",
       "      <td id=\"T_d2230_row58_col3\" class=\"data row58 col3\" >1</td>\n",
       "      <td id=\"T_d2230_row58_col4\" class=\"data row58 col4\" >1</td>\n",
       "      <td id=\"T_d2230_row58_col5\" class=\"data row58 col5\" >1</td>\n",
       "      <td id=\"T_d2230_row58_col6\" class=\"data row58 col6\" >1.000000</td>\n",
       "    </tr>\n",
       "    <tr>\n",
       "      <td id=\"T_d2230_row59_col0\" class=\"data row59 col0\" >bog60</td>\n",
       "      <td id=\"T_d2230_row59_col1\" class=\"data row59 col1\" >1</td>\n",
       "      <td id=\"T_d2230_row59_col2\" class=\"data row59 col2\" >1</td>\n",
       "      <td id=\"T_d2230_row59_col3\" class=\"data row59 col3\" >1</td>\n",
       "      <td id=\"T_d2230_row59_col4\" class=\"data row59 col4\" >1</td>\n",
       "      <td id=\"T_d2230_row59_col5\" class=\"data row59 col5\" >1</td>\n",
       "      <td id=\"T_d2230_row59_col6\" class=\"data row59 col6\" >1.000000</td>\n",
       "    </tr>\n",
       "    <tr>\n",
       "      <td id=\"T_d2230_row60_col0\" class=\"data row60 col0\" >bog61</td>\n",
       "      <td id=\"T_d2230_row60_col1\" class=\"data row60 col1\" >1</td>\n",
       "      <td id=\"T_d2230_row60_col2\" class=\"data row60 col2\" >1</td>\n",
       "      <td id=\"T_d2230_row60_col3\" class=\"data row60 col3\" >1</td>\n",
       "      <td id=\"T_d2230_row60_col4\" class=\"data row60 col4\" >1</td>\n",
       "      <td id=\"T_d2230_row60_col5\" class=\"data row60 col5\" >1</td>\n",
       "      <td id=\"T_d2230_row60_col6\" class=\"data row60 col6\" >1.000000</td>\n",
       "    </tr>\n",
       "    <tr>\n",
       "      <td id=\"T_d2230_row61_col0\" class=\"data row61 col0\" >bog62</td>\n",
       "      <td id=\"T_d2230_row61_col1\" class=\"data row61 col1\" >1</td>\n",
       "      <td id=\"T_d2230_row61_col2\" class=\"data row61 col2\" >1</td>\n",
       "      <td id=\"T_d2230_row61_col3\" class=\"data row61 col3\" >1</td>\n",
       "      <td id=\"T_d2230_row61_col4\" class=\"data row61 col4\" >1</td>\n",
       "      <td id=\"T_d2230_row61_col5\" class=\"data row61 col5\" >1</td>\n",
       "      <td id=\"T_d2230_row61_col6\" class=\"data row61 col6\" >1.000000</td>\n",
       "    </tr>\n",
       "    <tr>\n",
       "      <td id=\"T_d2230_row62_col0\" class=\"data row62 col0\" >bog63</td>\n",
       "      <td id=\"T_d2230_row62_col1\" class=\"data row62 col1\" >1</td>\n",
       "      <td id=\"T_d2230_row62_col2\" class=\"data row62 col2\" >0</td>\n",
       "      <td id=\"T_d2230_row62_col3\" class=\"data row62 col3\" >0</td>\n",
       "      <td id=\"T_d2230_row62_col4\" class=\"data row62 col4\" >0</td>\n",
       "      <td id=\"T_d2230_row62_col5\" class=\"data row62 col5\" >0</td>\n",
       "      <td id=\"T_d2230_row62_col6\" class=\"data row62 col6\" >0.200000</td>\n",
       "    </tr>\n",
       "    <tr>\n",
       "      <td id=\"T_d2230_row63_col0\" class=\"data row63 col0\" >bog64</td>\n",
       "      <td id=\"T_d2230_row63_col1\" class=\"data row63 col1\" >1</td>\n",
       "      <td id=\"T_d2230_row63_col2\" class=\"data row63 col2\" >1</td>\n",
       "      <td id=\"T_d2230_row63_col3\" class=\"data row63 col3\" >1</td>\n",
       "      <td id=\"T_d2230_row63_col4\" class=\"data row63 col4\" >1</td>\n",
       "      <td id=\"T_d2230_row63_col5\" class=\"data row63 col5\" >1</td>\n",
       "      <td id=\"T_d2230_row63_col6\" class=\"data row63 col6\" >1.000000</td>\n",
       "    </tr>\n",
       "    <tr>\n",
       "      <td id=\"T_d2230_row64_col0\" class=\"data row64 col0\" >bog65</td>\n",
       "      <td id=\"T_d2230_row64_col1\" class=\"data row64 col1\" >1</td>\n",
       "      <td id=\"T_d2230_row64_col2\" class=\"data row64 col2\" >1</td>\n",
       "      <td id=\"T_d2230_row64_col3\" class=\"data row64 col3\" >1</td>\n",
       "      <td id=\"T_d2230_row64_col4\" class=\"data row64 col4\" >1</td>\n",
       "      <td id=\"T_d2230_row64_col5\" class=\"data row64 col5\" >1</td>\n",
       "      <td id=\"T_d2230_row64_col6\" class=\"data row64 col6\" >1.000000</td>\n",
       "    </tr>\n",
       "    <tr>\n",
       "      <td id=\"T_d2230_row65_col0\" class=\"data row65 col0\" >bog66</td>\n",
       "      <td id=\"T_d2230_row65_col1\" class=\"data row65 col1\" >1</td>\n",
       "      <td id=\"T_d2230_row65_col2\" class=\"data row65 col2\" >1</td>\n",
       "      <td id=\"T_d2230_row65_col3\" class=\"data row65 col3\" >1</td>\n",
       "      <td id=\"T_d2230_row65_col4\" class=\"data row65 col4\" >1</td>\n",
       "      <td id=\"T_d2230_row65_col5\" class=\"data row65 col5\" >1</td>\n",
       "      <td id=\"T_d2230_row65_col6\" class=\"data row65 col6\" >1.000000</td>\n",
       "    </tr>\n",
       "    <tr>\n",
       "      <td id=\"T_d2230_row66_col0\" class=\"data row66 col0\" >bog67</td>\n",
       "      <td id=\"T_d2230_row66_col1\" class=\"data row66 col1\" >1</td>\n",
       "      <td id=\"T_d2230_row66_col2\" class=\"data row66 col2\" >1</td>\n",
       "      <td id=\"T_d2230_row66_col3\" class=\"data row66 col3\" >1</td>\n",
       "      <td id=\"T_d2230_row66_col4\" class=\"data row66 col4\" >0</td>\n",
       "      <td id=\"T_d2230_row66_col5\" class=\"data row66 col5\" >0</td>\n",
       "      <td id=\"T_d2230_row66_col6\" class=\"data row66 col6\" >0.600000</td>\n",
       "    </tr>\n",
       "    <tr>\n",
       "      <td id=\"T_d2230_row67_col0\" class=\"data row67 col0\" >bog68</td>\n",
       "      <td id=\"T_d2230_row67_col1\" class=\"data row67 col1\" >1</td>\n",
       "      <td id=\"T_d2230_row67_col2\" class=\"data row67 col2\" >1</td>\n",
       "      <td id=\"T_d2230_row67_col3\" class=\"data row67 col3\" >1</td>\n",
       "      <td id=\"T_d2230_row67_col4\" class=\"data row67 col4\" >1</td>\n",
       "      <td id=\"T_d2230_row67_col5\" class=\"data row67 col5\" >1</td>\n",
       "      <td id=\"T_d2230_row67_col6\" class=\"data row67 col6\" >1.000000</td>\n",
       "    </tr>\n",
       "    <tr>\n",
       "      <td id=\"T_d2230_row68_col0\" class=\"data row68 col0\" >bog69</td>\n",
       "      <td id=\"T_d2230_row68_col1\" class=\"data row68 col1\" >1</td>\n",
       "      <td id=\"T_d2230_row68_col2\" class=\"data row68 col2\" >1</td>\n",
       "      <td id=\"T_d2230_row68_col3\" class=\"data row68 col3\" >1</td>\n",
       "      <td id=\"T_d2230_row68_col4\" class=\"data row68 col4\" >1</td>\n",
       "      <td id=\"T_d2230_row68_col5\" class=\"data row68 col5\" >1</td>\n",
       "      <td id=\"T_d2230_row68_col6\" class=\"data row68 col6\" >1.000000</td>\n",
       "    </tr>\n",
       "    <tr>\n",
       "      <td id=\"T_d2230_row69_col0\" class=\"data row69 col0\" >bog70</td>\n",
       "      <td id=\"T_d2230_row69_col1\" class=\"data row69 col1\" >1</td>\n",
       "      <td id=\"T_d2230_row69_col2\" class=\"data row69 col2\" >1</td>\n",
       "      <td id=\"T_d2230_row69_col3\" class=\"data row69 col3\" >1</td>\n",
       "      <td id=\"T_d2230_row69_col4\" class=\"data row69 col4\" >1</td>\n",
       "      <td id=\"T_d2230_row69_col5\" class=\"data row69 col5\" >1</td>\n",
       "      <td id=\"T_d2230_row69_col6\" class=\"data row69 col6\" >1.000000</td>\n",
       "    </tr>\n",
       "    <tr>\n",
       "      <td id=\"T_d2230_row70_col0\" class=\"data row70 col0\" >bog71</td>\n",
       "      <td id=\"T_d2230_row70_col1\" class=\"data row70 col1\" >1</td>\n",
       "      <td id=\"T_d2230_row70_col2\" class=\"data row70 col2\" >1</td>\n",
       "      <td id=\"T_d2230_row70_col3\" class=\"data row70 col3\" >1</td>\n",
       "      <td id=\"T_d2230_row70_col4\" class=\"data row70 col4\" >1</td>\n",
       "      <td id=\"T_d2230_row70_col5\" class=\"data row70 col5\" >1</td>\n",
       "      <td id=\"T_d2230_row70_col6\" class=\"data row70 col6\" >1.000000</td>\n",
       "    </tr>\n",
       "    <tr>\n",
       "      <td id=\"T_d2230_row71_col0\" class=\"data row71 col0\" >bog72</td>\n",
       "      <td id=\"T_d2230_row71_col1\" class=\"data row71 col1\" >1</td>\n",
       "      <td id=\"T_d2230_row71_col2\" class=\"data row71 col2\" >1</td>\n",
       "      <td id=\"T_d2230_row71_col3\" class=\"data row71 col3\" >1</td>\n",
       "      <td id=\"T_d2230_row71_col4\" class=\"data row71 col4\" >1</td>\n",
       "      <td id=\"T_d2230_row71_col5\" class=\"data row71 col5\" >1</td>\n",
       "      <td id=\"T_d2230_row71_col6\" class=\"data row71 col6\" >1.000000</td>\n",
       "    </tr>\n",
       "    <tr>\n",
       "      <td id=\"T_d2230_row72_col0\" class=\"data row72 col0\" >bog73</td>\n",
       "      <td id=\"T_d2230_row72_col1\" class=\"data row72 col1\" >1</td>\n",
       "      <td id=\"T_d2230_row72_col2\" class=\"data row72 col2\" >1</td>\n",
       "      <td id=\"T_d2230_row72_col3\" class=\"data row72 col3\" >1</td>\n",
       "      <td id=\"T_d2230_row72_col4\" class=\"data row72 col4\" >1</td>\n",
       "      <td id=\"T_d2230_row72_col5\" class=\"data row72 col5\" >1</td>\n",
       "      <td id=\"T_d2230_row72_col6\" class=\"data row72 col6\" >1.000000</td>\n",
       "    </tr>\n",
       "    <tr>\n",
       "      <td id=\"T_d2230_row73_col0\" class=\"data row73 col0\" >bog74</td>\n",
       "      <td id=\"T_d2230_row73_col1\" class=\"data row73 col1\" >1</td>\n",
       "      <td id=\"T_d2230_row73_col2\" class=\"data row73 col2\" >1</td>\n",
       "      <td id=\"T_d2230_row73_col3\" class=\"data row73 col3\" >1</td>\n",
       "      <td id=\"T_d2230_row73_col4\" class=\"data row73 col4\" >1</td>\n",
       "      <td id=\"T_d2230_row73_col5\" class=\"data row73 col5\" >1</td>\n",
       "      <td id=\"T_d2230_row73_col6\" class=\"data row73 col6\" >1.000000</td>\n",
       "    </tr>\n",
       "    <tr>\n",
       "      <td id=\"T_d2230_row74_col0\" class=\"data row74 col0\" >bog75</td>\n",
       "      <td id=\"T_d2230_row74_col1\" class=\"data row74 col1\" >1</td>\n",
       "      <td id=\"T_d2230_row74_col2\" class=\"data row74 col2\" >1</td>\n",
       "      <td id=\"T_d2230_row74_col3\" class=\"data row74 col3\" >1</td>\n",
       "      <td id=\"T_d2230_row74_col4\" class=\"data row74 col4\" >1</td>\n",
       "      <td id=\"T_d2230_row74_col5\" class=\"data row74 col5\" >1</td>\n",
       "      <td id=\"T_d2230_row74_col6\" class=\"data row74 col6\" >1.000000</td>\n",
       "    </tr>\n",
       "    <tr>\n",
       "      <td id=\"T_d2230_row75_col0\" class=\"data row75 col0\" >bog76</td>\n",
       "      <td id=\"T_d2230_row75_col1\" class=\"data row75 col1\" >1</td>\n",
       "      <td id=\"T_d2230_row75_col2\" class=\"data row75 col2\" >1</td>\n",
       "      <td id=\"T_d2230_row75_col3\" class=\"data row75 col3\" >1</td>\n",
       "      <td id=\"T_d2230_row75_col4\" class=\"data row75 col4\" >1</td>\n",
       "      <td id=\"T_d2230_row75_col5\" class=\"data row75 col5\" >1</td>\n",
       "      <td id=\"T_d2230_row75_col6\" class=\"data row75 col6\" >1.000000</td>\n",
       "    </tr>\n",
       "    <tr>\n",
       "      <td id=\"T_d2230_row76_col0\" class=\"data row76 col0\" >bog77</td>\n",
       "      <td id=\"T_d2230_row76_col1\" class=\"data row76 col1\" >1</td>\n",
       "      <td id=\"T_d2230_row76_col2\" class=\"data row76 col2\" >0</td>\n",
       "      <td id=\"T_d2230_row76_col3\" class=\"data row76 col3\" >1</td>\n",
       "      <td id=\"T_d2230_row76_col4\" class=\"data row76 col4\" >1</td>\n",
       "      <td id=\"T_d2230_row76_col5\" class=\"data row76 col5\" >1</td>\n",
       "      <td id=\"T_d2230_row76_col6\" class=\"data row76 col6\" >0.800000</td>\n",
       "    </tr>\n",
       "    <tr>\n",
       "      <td id=\"T_d2230_row77_col0\" class=\"data row77 col0\" >bog78</td>\n",
       "      <td id=\"T_d2230_row77_col1\" class=\"data row77 col1\" >0</td>\n",
       "      <td id=\"T_d2230_row77_col2\" class=\"data row77 col2\" >0</td>\n",
       "      <td id=\"T_d2230_row77_col3\" class=\"data row77 col3\" >1</td>\n",
       "      <td id=\"T_d2230_row77_col4\" class=\"data row77 col4\" >1</td>\n",
       "      <td id=\"T_d2230_row77_col5\" class=\"data row77 col5\" >0</td>\n",
       "      <td id=\"T_d2230_row77_col6\" class=\"data row77 col6\" >0.400000</td>\n",
       "    </tr>\n",
       "    <tr>\n",
       "      <td id=\"T_d2230_row78_col0\" class=\"data row78 col0\" >bog79</td>\n",
       "      <td id=\"T_d2230_row78_col1\" class=\"data row78 col1\" >0</td>\n",
       "      <td id=\"T_d2230_row78_col2\" class=\"data row78 col2\" >0</td>\n",
       "      <td id=\"T_d2230_row78_col3\" class=\"data row78 col3\" >0</td>\n",
       "      <td id=\"T_d2230_row78_col4\" class=\"data row78 col4\" >0</td>\n",
       "      <td id=\"T_d2230_row78_col5\" class=\"data row78 col5\" >1</td>\n",
       "      <td id=\"T_d2230_row78_col6\" class=\"data row78 col6\" >0.200000</td>\n",
       "    </tr>\n",
       "    <tr>\n",
       "      <td id=\"T_d2230_row79_col0\" class=\"data row79 col0\" >bog80</td>\n",
       "      <td id=\"T_d2230_row79_col1\" class=\"data row79 col1\" >1</td>\n",
       "      <td id=\"T_d2230_row79_col2\" class=\"data row79 col2\" >1</td>\n",
       "      <td id=\"T_d2230_row79_col3\" class=\"data row79 col3\" >1</td>\n",
       "      <td id=\"T_d2230_row79_col4\" class=\"data row79 col4\" >1</td>\n",
       "      <td id=\"T_d2230_row79_col5\" class=\"data row79 col5\" >1</td>\n",
       "      <td id=\"T_d2230_row79_col6\" class=\"data row79 col6\" >1.000000</td>\n",
       "    </tr>\n",
       "    <tr>\n",
       "      <td id=\"T_d2230_row80_col0\" class=\"data row80 col0\" >bog81</td>\n",
       "      <td id=\"T_d2230_row80_col1\" class=\"data row80 col1\" >1</td>\n",
       "      <td id=\"T_d2230_row80_col2\" class=\"data row80 col2\" >1</td>\n",
       "      <td id=\"T_d2230_row80_col3\" class=\"data row80 col3\" >1</td>\n",
       "      <td id=\"T_d2230_row80_col4\" class=\"data row80 col4\" >1</td>\n",
       "      <td id=\"T_d2230_row80_col5\" class=\"data row80 col5\" >1</td>\n",
       "      <td id=\"T_d2230_row80_col6\" class=\"data row80 col6\" >1.000000</td>\n",
       "    </tr>\n",
       "    <tr>\n",
       "      <td id=\"T_d2230_row81_col0\" class=\"data row81 col0\" >bog82</td>\n",
       "      <td id=\"T_d2230_row81_col1\" class=\"data row81 col1\" >1</td>\n",
       "      <td id=\"T_d2230_row81_col2\" class=\"data row81 col2\" >1</td>\n",
       "      <td id=\"T_d2230_row81_col3\" class=\"data row81 col3\" >1</td>\n",
       "      <td id=\"T_d2230_row81_col4\" class=\"data row81 col4\" >1</td>\n",
       "      <td id=\"T_d2230_row81_col5\" class=\"data row81 col5\" >1</td>\n",
       "      <td id=\"T_d2230_row81_col6\" class=\"data row81 col6\" >1.000000</td>\n",
       "    </tr>\n",
       "    <tr>\n",
       "      <td id=\"T_d2230_row82_col0\" class=\"data row82 col0\" >bog83</td>\n",
       "      <td id=\"T_d2230_row82_col1\" class=\"data row82 col1\" >1</td>\n",
       "      <td id=\"T_d2230_row82_col2\" class=\"data row82 col2\" >1</td>\n",
       "      <td id=\"T_d2230_row82_col3\" class=\"data row82 col3\" >1</td>\n",
       "      <td id=\"T_d2230_row82_col4\" class=\"data row82 col4\" >1</td>\n",
       "      <td id=\"T_d2230_row82_col5\" class=\"data row82 col5\" >1</td>\n",
       "      <td id=\"T_d2230_row82_col6\" class=\"data row82 col6\" >1.000000</td>\n",
       "    </tr>\n",
       "    <tr>\n",
       "      <td id=\"T_d2230_row83_col0\" class=\"data row83 col0\" >bog84</td>\n",
       "      <td id=\"T_d2230_row83_col1\" class=\"data row83 col1\" >1</td>\n",
       "      <td id=\"T_d2230_row83_col2\" class=\"data row83 col2\" >1</td>\n",
       "      <td id=\"T_d2230_row83_col3\" class=\"data row83 col3\" >1</td>\n",
       "      <td id=\"T_d2230_row83_col4\" class=\"data row83 col4\" >1</td>\n",
       "      <td id=\"T_d2230_row83_col5\" class=\"data row83 col5\" >1</td>\n",
       "      <td id=\"T_d2230_row83_col6\" class=\"data row83 col6\" >1.000000</td>\n",
       "    </tr>\n",
       "    <tr>\n",
       "      <td id=\"T_d2230_row84_col0\" class=\"data row84 col0\" >bog85</td>\n",
       "      <td id=\"T_d2230_row84_col1\" class=\"data row84 col1\" >1</td>\n",
       "      <td id=\"T_d2230_row84_col2\" class=\"data row84 col2\" >1</td>\n",
       "      <td id=\"T_d2230_row84_col3\" class=\"data row84 col3\" >1</td>\n",
       "      <td id=\"T_d2230_row84_col4\" class=\"data row84 col4\" >1</td>\n",
       "      <td id=\"T_d2230_row84_col5\" class=\"data row84 col5\" >1</td>\n",
       "      <td id=\"T_d2230_row84_col6\" class=\"data row84 col6\" >1.000000</td>\n",
       "    </tr>\n",
       "    <tr>\n",
       "      <td id=\"T_d2230_row85_col0\" class=\"data row85 col0\" >bog86</td>\n",
       "      <td id=\"T_d2230_row85_col1\" class=\"data row85 col1\" >1</td>\n",
       "      <td id=\"T_d2230_row85_col2\" class=\"data row85 col2\" >1</td>\n",
       "      <td id=\"T_d2230_row85_col3\" class=\"data row85 col3\" >1</td>\n",
       "      <td id=\"T_d2230_row85_col4\" class=\"data row85 col4\" >1</td>\n",
       "      <td id=\"T_d2230_row85_col5\" class=\"data row85 col5\" >1</td>\n",
       "      <td id=\"T_d2230_row85_col6\" class=\"data row85 col6\" >1.000000</td>\n",
       "    </tr>\n",
       "    <tr>\n",
       "      <td id=\"T_d2230_row86_col0\" class=\"data row86 col0\" >bog87</td>\n",
       "      <td id=\"T_d2230_row86_col1\" class=\"data row86 col1\" >0</td>\n",
       "      <td id=\"T_d2230_row86_col2\" class=\"data row86 col2\" >0</td>\n",
       "      <td id=\"T_d2230_row86_col3\" class=\"data row86 col3\" >0</td>\n",
       "      <td id=\"T_d2230_row86_col4\" class=\"data row86 col4\" >0</td>\n",
       "      <td id=\"T_d2230_row86_col5\" class=\"data row86 col5\" >1</td>\n",
       "      <td id=\"T_d2230_row86_col6\" class=\"data row86 col6\" >0.200000</td>\n",
       "    </tr>\n",
       "    <tr>\n",
       "      <td id=\"T_d2230_row87_col0\" class=\"data row87 col0\" >bog88</td>\n",
       "      <td id=\"T_d2230_row87_col1\" class=\"data row87 col1\" >1</td>\n",
       "      <td id=\"T_d2230_row87_col2\" class=\"data row87 col2\" >1</td>\n",
       "      <td id=\"T_d2230_row87_col3\" class=\"data row87 col3\" >1</td>\n",
       "      <td id=\"T_d2230_row87_col4\" class=\"data row87 col4\" >1</td>\n",
       "      <td id=\"T_d2230_row87_col5\" class=\"data row87 col5\" >1</td>\n",
       "      <td id=\"T_d2230_row87_col6\" class=\"data row87 col6\" >1.000000</td>\n",
       "    </tr>\n",
       "    <tr>\n",
       "      <td id=\"T_d2230_row88_col0\" class=\"data row88 col0\" >bog89</td>\n",
       "      <td id=\"T_d2230_row88_col1\" class=\"data row88 col1\" >1</td>\n",
       "      <td id=\"T_d2230_row88_col2\" class=\"data row88 col2\" >1</td>\n",
       "      <td id=\"T_d2230_row88_col3\" class=\"data row88 col3\" >1</td>\n",
       "      <td id=\"T_d2230_row88_col4\" class=\"data row88 col4\" >1</td>\n",
       "      <td id=\"T_d2230_row88_col5\" class=\"data row88 col5\" >1</td>\n",
       "      <td id=\"T_d2230_row88_col6\" class=\"data row88 col6\" >1.000000</td>\n",
       "    </tr>\n",
       "    <tr>\n",
       "      <td id=\"T_d2230_row89_col0\" class=\"data row89 col0\" >bog90</td>\n",
       "      <td id=\"T_d2230_row89_col1\" class=\"data row89 col1\" >1</td>\n",
       "      <td id=\"T_d2230_row89_col2\" class=\"data row89 col2\" >1</td>\n",
       "      <td id=\"T_d2230_row89_col3\" class=\"data row89 col3\" >1</td>\n",
       "      <td id=\"T_d2230_row89_col4\" class=\"data row89 col4\" >1</td>\n",
       "      <td id=\"T_d2230_row89_col5\" class=\"data row89 col5\" >1</td>\n",
       "      <td id=\"T_d2230_row89_col6\" class=\"data row89 col6\" >1.000000</td>\n",
       "    </tr>\n",
       "  </tbody>\n",
       "</table>\n"
      ],
      "text/plain": [
       "<pandas.io.formats.style.Styler at 0x1681de2d0>"
      ]
     },
     "execution_count": 103,
     "metadata": {},
     "output_type": "execute_result"
    }
   ],
   "source": [
    "# df = df.drop(\"BOG\", axis=1)\n",
    "print_df(df).style.hide()"
   ]
  },
  {
   "cell_type": "code",
   "execution_count": null,
   "id": "3eac849d-63d3-440a-bf87-462484cbf92e",
   "metadata": {},
   "outputs": [],
   "source": []
  }
 ],
 "metadata": {
  "kernelspec": {
   "display_name": "Python 3 (ipykernel)",
   "language": "python",
   "name": "python3"
  },
  "language_info": {
   "codemirror_mode": {
    "name": "ipython",
    "version": 3
   },
   "file_extension": ".py",
   "mimetype": "text/x-python",
   "name": "python",
   "nbconvert_exporter": "python",
   "pygments_lexer": "ipython3",
   "version": "3.12.4"
  }
 },
 "nbformat": 4,
 "nbformat_minor": 5
}
